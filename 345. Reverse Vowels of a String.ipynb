{
 "cells": [
  {
   "cell_type": "markdown",
   "metadata": {},
   "source": [
    "## 345. Reverse Vowels of a String\n",
    "https://leetcode.com/problems/reverse-vowels-of-a-string/?envType=study-plan-v2&envId=leetcode-75"
   ]
  },
  {
   "cell_type": "markdown",
   "metadata": {},
   "source": [
    "<details>\n",
    "<summary> Desciption </summary>\n",
    "Given a string s, reverse only all the vowels in the string and return it.\n",
    "\n",
    "The vowels are 'a', 'e', 'i', 'o', and 'u', and they can appear in both lower and upper cases, more than once.\n",
    "\n",
    " \n",
    "\n",
    "Example 1:\n",
    "\n",
    "Input: s = \"hello\"\n",
    "Output: \"holle\"\n",
    "Example 2:\n",
    "\n",
    "Input: s = \"leetcode\"\n",
    "Output: \"leotcede\"\n",
    " \n",
    "\n",
    "Constraints:\n",
    "\n",
    "1 <= s.length <= 3 * 105\n",
    "s consist of printable ASCII characters.\n",
    "</details>"
   ]
  },
  {
   "cell_type": "code",
   "execution_count": 1,
   "metadata": {},
   "outputs": [],
   "source": [
    "from typing import *\n",
    "from common import run_tests\n",
    "questions = [\n",
    "    dict(s = \"hello\"),\n",
    "    dict(s = \"leetcode\")\n",
    "]\n",
    "\n",
    "answers = [\n",
    "    \"holle\",\n",
    "    \"leotcede\"\n",
    "]"
   ]
  },
  {
   "cell_type": "code",
   "execution_count": 6,
   "metadata": {},
   "outputs": [
    {
     "name": "stdout",
     "output_type": "stream",
     "text": [
      "Test Case 0: Passed!\n",
      "Test Case 1: Passed!\n"
     ]
    }
   ],
   "source": [
    "class Solution:\n",
    "    def reverseVowels(self, s: str) -> str:\n",
    "        vowels_elements = [c for c in s if c in 'aeiouAEIOU']\n",
    "        result_list = []\n",
    "        \n",
    "        for c in s:\n",
    "            if c in 'aeiouAEIOU':\n",
    "                result_list.append(vowels_elements.pop())\n",
    "            else:\n",
    "                result_list.append(c)\n",
    "\n",
    "        return ''.join(result_list)\n",
    "run_tests(questions, answers, Solution)"
   ]
  },
  {
   "cell_type": "markdown",
   "metadata": {},
   "source": [
    "### two pointers"
   ]
  },
  {
   "cell_type": "code",
   "execution_count": 11,
   "metadata": {},
   "outputs": [
    {
     "name": "stdout",
     "output_type": "stream",
     "text": [
      "Test Case 0: Passed!\n",
      "Test Case 1: Passed!\n"
     ]
    }
   ],
   "source": [
    "class Solution:\n",
    "    def reverseVowels(self, s: str) -> str:\n",
    "        left, right = 0, len(s) - 1\n",
    "        vowels = 'aeiouAEIOU'\n",
    "        s_list = list(s)\n",
    "        while left < right:\n",
    "            left_is_vowels = s[left] in vowels\n",
    "            right_is_vowels = s[right] in vowels\n",
    "            if left_is_vowels and right_is_vowels:\n",
    "                s_list[left], s_list[right] = s_list[right], s_list[left]\n",
    "                left += 1\n",
    "                right -= 1\n",
    "            else:\n",
    "                if not left_is_vowels:\n",
    "                    left += 1\n",
    "                if not right_is_vowels:\n",
    "                    right -= 1\n",
    "        return ''.join(s_list)\n",
    "\n",
    "run_tests(questions, answers, Solution)"
   ]
  }
 ],
 "metadata": {
  "kernelspec": {
   "display_name": ".venv",
   "language": "python",
   "name": "python3"
  },
  "language_info": {
   "codemirror_mode": {
    "name": "ipython",
    "version": 3
   },
   "file_extension": ".py",
   "mimetype": "text/x-python",
   "name": "python",
   "nbconvert_exporter": "python",
   "pygments_lexer": "ipython3",
   "version": "3.10.11"
  }
 },
 "nbformat": 4,
 "nbformat_minor": 2
}
