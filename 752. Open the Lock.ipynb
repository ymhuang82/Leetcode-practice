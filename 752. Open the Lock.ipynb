{
 "cells": [
  {
   "cell_type": "markdown",
   "metadata": {},
   "source": [
    "## 752. Open the Lock\n",
    "https://leetcode.com/problems/open-the-lock/description/?envType=daily-question&envId=2024-04-22"
   ]
  },
  {
   "cell_type": "markdown",
   "metadata": {},
   "source": [
    "You have a lock in front of you with 4 circular wheels. Each wheel has 10 slots: '0', '1', '2', '3', '4', '5', '6', '7', '8', '9'. The wheels can rotate freely and wrap around: for example we can turn '9' to be '0', or '0' to be '9'. Each move consists of turning one wheel one slot.\n",
    "\n",
    "The lock initially starts at '0000', a string representing the state of the 4 wheels.\n",
    "\n",
    "You are given a list of deadends dead ends, meaning if the lock displays any of these codes, the wheels of the lock will stop turning and you will be unable to open it.\n",
    "\n",
    "Given a target representing the value of the wheels that will unlock the lock, return the minimum total number of turns required to open the lock, or -1 if it is impossible.\n",
    "\n",
    " \n",
    "\n",
    "Example 1:\n",
    "\n",
    "Input: deadends = [\"0201\",\"0101\",\"0102\",\"1212\",\"2002\"], target = \"0202\"\n",
    "Output: 6\n",
    "Explanation: \n",
    "A sequence of valid moves would be \"0000\" -> \"1000\" -> \"1100\" -> \"1200\" -> \"1201\" -> \"1202\" -> \"0202\".\n",
    "Note that a sequence like \"0000\" -> \"0001\" -> \"0002\" -> \"0102\" -> \"0202\" would be invalid,\n",
    "because the wheels of the lock become stuck after the display becomes the dead end \"0102\".\n",
    "Example 2:\n",
    "\n",
    "Input: deadends = [\"8888\"], target = \"0009\"\n",
    "Output: 1\n",
    "Explanation: We can turn the last wheel in reverse to move from \"0000\" -> \"0009\".\n",
    "Example 3:\n",
    "\n",
    "Input: deadends = [\"8887\",\"8889\",\"8878\",\"8898\",\"8788\",\"8988\",\"7888\",\"9888\"], target = \"8888\"\n",
    "Output: -1\n",
    "Explanation: We cannot reach the target without getting stuck.\n",
    " \n",
    "\n",
    "Constraints:\n",
    "\n",
    "1 <= deadends.length <= 500\n",
    "deadends[i].length == 4\n",
    "target.length == 4\n",
    "target will not be in the list deadends.\n",
    "target and deadends[i] consist of digits only."
   ]
  },
  {
   "cell_type": "code",
   "execution_count": 2,
   "metadata": {},
   "outputs": [],
   "source": [
    "from typing import *\n",
    "from common import run_tests\n",
    "from collections import *\n",
    "questions = [\n",
    "    dict(deadends = [\"0201\",\"0101\",\"0102\",\"1212\",\"2002\"], target = \"0202\"),\n",
    "    dict(deadends = [\"8888\"], target = \"0009\"),\n",
    "    dict(deadends = [\"8887\",\"8889\",\"8878\",\"8898\",\"8788\",\"8988\",\"7888\",\"9888\"], target = \"8888\")\n",
    "]\n",
    "\n",
    "answers = [\n",
    "    6,\n",
    "    1,\n",
    "    -1\n",
    "]"
   ]
  },
  {
   "cell_type": "markdown",
   "metadata": {},
   "source": [
    "BFS"
   ]
  },
  {
   "cell_type": "code",
   "execution_count": 5,
   "metadata": {},
   "outputs": [],
   "source": [
    "class Solution:\n",
    "    def openLock(self, deadends: List[str], target: str) -> int:\n",
    "        deadends = set(deadends)\n",
    "        if '0000' in deadends:\n",
    "            return -1\n",
    "        \n",
    "        wheels = '0000'\n",
    "        queue = deque([(wheels, 0)])\n",
    "        visitied = set(wheels)\n",
    "\n",
    "        while queue:\n",
    "            wheels, moves = queue.popleft()\n",
    "\n",
    "            if wheels == target:\n",
    "                return moves\n",
    "            \n",
    "            for i in range(4):\n",
    "                for delta in (-1, 1):\n",
    "                    new_digit = (int(wheels[i]) + delta) % 10\n",
    "                    new_wheels = wheels[:i] + str(new_digit) + wheels[i+1:]\n",
    "                    \n",
    "                    if new_wheels in visitied: continue\n",
    "                    if new_wheels in deadends: continue\n",
    "\n",
    "                    queue.append([new_wheels, moves + 1])\n",
    "                    visitied.add(new_wheels)\n",
    "        return -1\n"
   ]
  },
  {
   "cell_type": "code",
   "execution_count": 6,
   "metadata": {},
   "outputs": [
    {
     "name": "stdout",
     "output_type": "stream",
     "text": [
      "Test Case 0: Passed!\n",
      "Test Case 1: Passed!\n",
      "Test Case 2: Passed!\n"
     ]
    }
   ],
   "source": [
    "run_tests(questions, answers, Solution)"
   ]
  }
 ],
 "metadata": {
  "kernelspec": {
   "display_name": ".venv",
   "language": "python",
   "name": "python3"
  },
  "language_info": {
   "codemirror_mode": {
    "name": "ipython",
    "version": 3
   },
   "file_extension": ".py",
   "mimetype": "text/x-python",
   "name": "python",
   "nbconvert_exporter": "python",
   "pygments_lexer": "ipython3",
   "version": "3.10.11"
  }
 },
 "nbformat": 4,
 "nbformat_minor": 2
}
