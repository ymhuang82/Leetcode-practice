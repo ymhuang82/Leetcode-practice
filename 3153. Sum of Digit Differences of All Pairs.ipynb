{
 "cells": [
  {
   "cell_type": "markdown",
   "metadata": {},
   "source": [
    "## 3153. Sum of Digit Differences of All Pairs\n",
    "https://leetcode.com/problems/sum-of-digit-differences-of-all-pairs/description/"
   ]
  },
  {
   "cell_type": "markdown",
   "metadata": {},
   "source": [
    "<details>\n",
    "You are given an array nums consisting of positive integers where all integers have the same number of digits.\n",
    "\n",
    "The digit difference between two integers is the count of different digits that are in the same position in the two integers.\n",
    "\n",
    "Return the sum of the digit differences between all pairs of integers in nums.\n",
    "\n",
    " \n",
    "\n",
    "Example 1:\n",
    "\n",
    "Input: nums = [13,23,12]\n",
    "\n",
    "Output: 4\n",
    "\n",
    "Explanation:\n",
    "We have the following:\n",
    "- The digit difference between 13 and 23 is 1.\n",
    "- The digit difference between 13 and 12 is 1.\n",
    "- The digit difference between 23 and 12 is 2.\n",
    "So the total sum of digit differences between all pairs of integers is 1 + 1 + 2 = 4.\n",
    "\n",
    "Example 2:\n",
    "\n",
    "Input: nums = [10,10,10,10]\n",
    "\n",
    "Output: 0\n",
    "\n",
    "Explanation:\n",
    "All the integers in the array are the same. So the total sum of digit differences between all pairs of integers will be 0.\n",
    "\n",
    " \n",
    "\n",
    "Constraints:\n",
    "\n",
    "2 <= nums.length <= 105\n",
    "1 <= nums[i] < 109\n",
    "All integers in nums have the same number of digits.\n",
    "</details>"
   ]
  },
  {
   "cell_type": "code",
   "execution_count": 1,
   "metadata": {},
   "outputs": [],
   "source": [
    "from typing import *\n",
    "from common import run_tests\n",
    "from collections import defaultdict\n",
    "\n",
    "questions = [\n",
    "    dict(nums=[13, 23, 12]),\n",
    "    dict(nums=[10, 10, 10, 10]),\n",
    "    dict(nums=[50, 28, 48]),\n",
    "]\n",
    "answers = [4, 0, 5]"
   ]
  },
  {
   "cell_type": "code",
   "execution_count": 12,
   "metadata": {},
   "outputs": [
    {
     "name": "stdout",
     "output_type": "stream",
     "text": [
      "Test Case 0: Passed!\n",
      "Test Case 1: Passed!\n",
      "Test Case 2: Passed!\n"
     ]
    }
   ],
   "source": [
    "class Solution:\n",
    "    def sumDigitDifferences(self, nums: List[int]) -> int:\n",
    "        n_nums = len(nums)\n",
    "        n_digits = len(str(nums[0]))\n",
    "        double_sum_digit_diff = n_nums * n_nums * n_digits\n",
    "\n",
    "        for _ in range(n_digits):\n",
    "            dd = defaultdict(int)\n",
    "            for i in range(n_nums):\n",
    "                dd[nums[i] % 10] += 1\n",
    "                nums[i] //= 10\n",
    "            for freq in dd.values():\n",
    "                double_sum_digit_diff -= freq * freq\n",
    "\n",
    "        return double_sum_digit_diff // 2\n",
    "\n",
    "\n",
    "run_tests(questions, answers, Solution)"
   ]
  },
  {
   "cell_type": "code",
   "execution_count": 11,
   "metadata": {},
   "outputs": [
    {
     "name": "stdout",
     "output_type": "stream",
     "text": [
      "Test Case 0: Passed!\n",
      "Test Case 1: Passed!\n",
      "Test Case 2: Passed!\n"
     ]
    }
   ],
   "source": [
    "class Solution:\n",
    "    def sumDigitDifferences(self, nums: List[int]) -> int:\n",
    "        n_nums = len(nums)\n",
    "        n_digits = len(str(nums[0]))\n",
    "        sum_digit_diff = 0\n",
    "\n",
    "        for _ in range(n_digits):\n",
    "            dd = defaultdict(int)\n",
    "            for i in range(n_nums):\n",
    "                dd[nums[i] % 10] += 1\n",
    "                nums[i] //= 10\n",
    "            for freq in dd.values():\n",
    "                sum_digit_diff += freq * (n_nums - freq)\n",
    "\n",
    "        return sum_digit_diff // 2\n",
    "\n",
    "\n",
    "run_tests(questions, answers, Solution)"
   ]
  }
 ],
 "metadata": {
  "kernelspec": {
   "display_name": ".venv",
   "language": "python",
   "name": "python3"
  },
  "language_info": {
   "codemirror_mode": {
    "name": "ipython",
    "version": 3
   },
   "file_extension": ".py",
   "mimetype": "text/x-python",
   "name": "python",
   "nbconvert_exporter": "python",
   "pygments_lexer": "ipython3",
   "version": "3.10.11"
  }
 },
 "nbformat": 4,
 "nbformat_minor": 2
}
