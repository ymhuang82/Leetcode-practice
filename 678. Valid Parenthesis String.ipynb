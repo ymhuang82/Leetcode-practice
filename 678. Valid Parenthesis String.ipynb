{
 "cells": [
  {
   "cell_type": "markdown",
   "metadata": {},
   "source": [
    "## 678. Valid Parenthesis String\n",
    "https://leetcode.com/problems/valid-parenthesis-string/description/?envType=daily-question&envId=2024-04-07"
   ]
  },
  {
   "cell_type": "code",
   "execution_count": 9,
   "metadata": {},
   "outputs": [],
   "source": [
    "from typing import *\n",
    "from common import run_tests"
   ]
  },
  {
   "cell_type": "markdown",
   "metadata": {},
   "source": [
    "dp"
   ]
  },
  {
   "cell_type": "code",
   "execution_count": 2,
   "metadata": {},
   "outputs": [],
   "source": [
    "class Solution:\n",
    "    def checkValidString(self, s: str) -> bool:\n",
    "        n = len(s)\n",
    "        max_possible_open = n - s.count(')')\n",
    "        dp = [[-1] * (max_possible_open + 1) for _ in range(n)]\n",
    "        return self.is_valid(0, 0, s, dp)\n",
    "    \n",
    "    def is_valid(self, index: int, open_count: int, s: str, dp: List[List[int]]) -> bool:\n",
    "        if index == len(s):\n",
    "            return open_count == 0\n",
    "        \n",
    "        if dp[index][open_count] != -1:\n",
    "            return dp[index][open_count] == 1\n",
    "        \n",
    "        is_valid = False\n",
    "\n",
    "        if s[index] == '*':\n",
    "            # ignore current '*'\n",
    "            is_valid |= self.is_valid(index + 1, open_count, s, dp)\n",
    "\n",
    "            # treat as '('\n",
    "            is_valid |= self.is_valid(index + 1, open_count + 1, s, dp)\n",
    "\n",
    "            # treat as ')'\n",
    "            if open_count > 0:\n",
    "                is_valid |= self.is_valid(index + 1, open_count - 1, s, dp)\n",
    "        \n",
    "        else:\n",
    "            if s[index] == '(':\n",
    "                is_valid |= self.is_valid(index + 1, open_count + 1, s, dp)\n",
    "            elif open_count > 0:\n",
    "                is_valid |= self.is_valid(index + 1, open_count - 1, s, dp)\n",
    "        \n",
    "        dp[index][open_count] = 1 if is_valid else 0\n",
    "        \n",
    "        return is_valid\n"
   ]
  },
  {
   "cell_type": "markdown",
   "metadata": {},
   "source": [
    "two stacks"
   ]
  },
  {
   "cell_type": "code",
   "execution_count": 3,
   "metadata": {},
   "outputs": [],
   "source": [
    "class Solution:\n",
    "    def checkValidString(self, s: str) -> bool:\n",
    "        open_stack = []\n",
    "        star_stack = []\n",
    "        for i, c in enumerate(s):\n",
    "            if c == '(':\n",
    "                open_stack.append(i)\n",
    "            elif c == '*':\n",
    "                star_stack.append(i)\n",
    "            else:\n",
    "                if open_stack:\n",
    "                    open_stack.pop()\n",
    "                elif star_stack:\n",
    "                    star_stack.pop()\n",
    "                else:\n",
    "                    return False\n",
    "            \n",
    "        # If the code reaches this point, it means only open brackets and stars remain.\n",
    "        # If any open bracket appears after stars, it cannot be balanced.\n",
    "\n",
    "        while open_stack and star_stack:\n",
    "            if open_stack.pop() > star_stack.pop():\n",
    "                return False\n",
    "            \n",
    "        return not open_stack"
   ]
  },
  {
   "cell_type": "code",
   "execution_count": 4,
   "metadata": {},
   "outputs": [],
   "source": [
    "questions = [\n",
    "    {'s': \"()\"},\n",
    "    {'s': \"(*)\"},\n",
    "    {'s': \"(*))\"}\n",
    "]\n",
    "\n",
    "answers = [\n",
    "    True,\n",
    "    True,\n",
    "    True\n",
    "]\n"
   ]
  },
  {
   "cell_type": "code",
   "execution_count": 8,
   "metadata": {},
   "outputs": [
    {
     "name": "stdout",
     "output_type": "stream",
     "text": [
      "Test Case 0: Passed!\n",
      "Test Case 1: Passed!\n",
      "Test Case 2: Passed!\n"
     ]
    }
   ],
   "source": [
    "run_tests(questions=questions, answers=answers, Solution=Solution, method_name='checkValidString')"
   ]
  }
 ],
 "metadata": {
  "kernelspec": {
   "display_name": ".venv",
   "language": "python",
   "name": "python3"
  },
  "language_info": {
   "codemirror_mode": {
    "name": "ipython",
    "version": 3
   },
   "file_extension": ".py",
   "mimetype": "text/x-python",
   "name": "python",
   "nbconvert_exporter": "python",
   "pygments_lexer": "ipython3",
   "version": "3.10.11"
  }
 },
 "nbformat": 4,
 "nbformat_minor": 2
}
