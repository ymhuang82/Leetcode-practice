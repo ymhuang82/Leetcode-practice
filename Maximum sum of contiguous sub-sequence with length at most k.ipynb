{
 "cells": [
  {
   "cell_type": "markdown",
   "metadata": {},
   "source": [
    "## Maximum sum of contiguous sub-sequence with length at most k\n",
    "- https://stackoverflow.com/questions/77502026/maximum-subarray-sum-with-at-most-k-elements\n",
    "- https://stackoverflow.com/questions/55451778/maximum-sum-of-contiguous-sub-sequence-with-length-at-most-k"
   ]
  },
  {
   "cell_type": "code",
   "execution_count": 5,
   "metadata": {},
   "outputs": [],
   "source": [
    "from typing import *\n",
    "from common import run_tests\n",
    "from collections import deque\n",
    "from itertools import accumulate\n",
    "\n",
    "questions = [dict(nums=[5, -3, 5, 5, -3, 5], k=3)]\n",
    "answers = [10]"
   ]
  },
  {
   "cell_type": "code",
   "execution_count": 10,
   "metadata": {},
   "outputs": [
    {
     "name": "stdout",
     "output_type": "stream",
     "text": [
      "0 [(2, 7)]\n",
      "1 [(3, 12)]\n",
      "2 [(3, 12), (4, 9)]\n",
      "3 [(5, 14)]\n",
      "4 [(5, 14)]\n",
      "5 [(5, 14)]\n",
      "Test Case 0: Passed!\n"
     ]
    }
   ],
   "source": [
    "class Solution:\n",
    "    def maxSubarraySum(self, nums, k) -> int:\n",
    "        # 計算前綴和\n",
    "        prefix_sum = list(accumulate(nums))\n",
    "\n",
    "        # 創建一個雙向佇列，用於存儲可能的最大前綴和的索引\n",
    "        q = deque()\n",
    "\n",
    "        # 對於前 k 個元素，將它們的索引加入到佇列中，確保佇列中的索引對應的前綴和是單調遞減的\n",
    "        for i in range(k):\n",
    "            while len(q) > 0 and prefix_sum[i] >= prefix_sum[q[-1]]:\n",
    "                q.pop()\n",
    "            q.append(i)\n",
    "        print(\"0\", list(zip(q, [prefix_sum[i] for i in q])))\n",
    "        # 初始化最大和為前 k 個元素中的最大前綴和\n",
    "        maxi = max(prefix_sum[:k])\n",
    "\n",
    "        # 從第 k 個元素開始遍歷原始陣列\n",
    "        for i in range(1, len(nums)):\n",
    "            # 如果佇列中的第一個索引不在當前範圍內，則移除它\n",
    "            if q[0] < i:\n",
    "                q.popleft()\n",
    "\n",
    "            # 如果當前範圍還有至少 k 個元素，則持續更新佇列\n",
    "            if i + k - 1 < len(nums):\n",
    "                while len(q) > 0 and prefix_sum[i + k - 1] >= prefix_sum[q[-1]]:\n",
    "                    q.pop()\n",
    "                q.append(i + k - 1)\n",
    "            print(i, list(zip(q, [prefix_sum[i] for i in q])))\n",
    "            # 更新最大和\n",
    "            maxi = max(maxi, prefix_sum[q[0]] - prefix_sum[i - 1])\n",
    "\n",
    "        # 返回最大和\n",
    "        return maxi\n",
    "\n",
    "\n",
    "run_tests(questions, answers, Solution)"
   ]
  },
  {
   "cell_type": "code",
   "execution_count": 2,
   "metadata": {},
   "outputs": [
    {
     "data": {
      "text/plain": [
       "[1, 3, 6, 10, 15, 21, 28, 36, 45]"
      ]
     },
     "execution_count": 2,
     "metadata": {},
     "output_type": "execute_result"
    }
   ],
   "source": [
    "nums = list(range(1, 10))\n",
    "prefix_sum = [0] * len(nums)\n",
    "prefix_sum[0] = nums[0]\n",
    "\n",
    "# 計算前綴和\n",
    "for i in range(1, len(nums)):\n",
    "    prefix_sum[i] = prefix_sum[i - 1] + nums[i]\n",
    "prefix_sum"
   ]
  }
 ],
 "metadata": {
  "kernelspec": {
   "display_name": ".venv",
   "language": "python",
   "name": "python3"
  },
  "language_info": {
   "codemirror_mode": {
    "name": "ipython",
    "version": 3
   },
   "file_extension": ".py",
   "mimetype": "text/x-python",
   "name": "python",
   "nbconvert_exporter": "python",
   "pygments_lexer": "ipython3",
   "version": "3.10.11"
  }
 },
 "nbformat": 4,
 "nbformat_minor": 2
}
