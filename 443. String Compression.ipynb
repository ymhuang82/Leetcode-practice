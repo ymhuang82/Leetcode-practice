{
 "cells": [
  {
   "cell_type": "markdown",
   "metadata": {},
   "source": [
    "## 443. String Compression\n",
    "https://leetcode.com/problems/string-compression/description/?envType=study-plan-v2&envId=leetcode-75"
   ]
  },
  {
   "cell_type": "markdown",
   "metadata": {},
   "source": [
    "<details>\n",
    "<summary> Desciption </summary>\n",
    "Given an array of characters chars, compress it using the following algorithm:\n",
    "\n",
    "Begin with an empty string s. For each group of consecutive repeating characters in chars:\n",
    "\n",
    "If the group's length is 1, append the character to s.\n",
    "Otherwise, append the character followed by the group's length.\n",
    "The compressed string s should not be returned separately, but instead, be stored in the input character array chars. Note that group lengths that are 10 or longer will be split into multiple characters in chars.\n",
    "\n",
    "After you are done modifying the input array, return the new length of the array.\n",
    "\n",
    "You must write an algorithm that uses only constant extra space.\n",
    "\n",
    " \n",
    "\n",
    "Example 1:\n",
    "\n",
    "Input: chars = [\"a\",\"a\",\"b\",\"b\",\"c\",\"c\",\"c\"]\n",
    "Output: Return 6, and the first 6 characters of the input array should be: [\"a\",\"2\",\"b\",\"2\",\"c\",\"3\"]\n",
    "Explanation: The groups are \"aa\", \"bb\", and \"ccc\". This compresses to \"a2b2c3\".\n",
    "Example 2:\n",
    "\n",
    "Input: chars = [\"a\"]\n",
    "Output: Return 1, and the first character of the input array should be: [\"a\"]\n",
    "Explanation: The only group is \"a\", which remains uncompressed since it's a single character.\n",
    "Example 3:\n",
    "\n",
    "Input: chars = [\"a\",\"b\",\"b\",\"b\",\"b\",\"b\",\"b\",\"b\",\"b\",\"b\",\"b\",\"b\",\"b\"]\n",
    "Output: Return 4, and the first 4 characters of the input array should be: [\"a\",\"b\",\"1\",\"2\"].\n",
    "Explanation: The groups are \"a\" and \"bbbbbbbbbbbb\". This compresses to \"ab12\".\n",
    " \n",
    "\n",
    "Constraints:\n",
    "\n",
    "1 <= chars.length <= 2000\n",
    "chars[i] is a lowercase English letter, uppercase English letter, digit, or symbol.\n",
    "</details>"
   ]
  },
  {
   "cell_type": "code",
   "execution_count": 44,
   "metadata": {},
   "outputs": [],
   "source": [
    "from typing import *\n",
    "from common import run_tests\n",
    "\n",
    "questions = [\n",
    "    dict(chars=[\"a\", \"a\", \"b\", \"b\", \"c\", \"c\", \"c\"]),\n",
    "    dict(chars=[\"a\"]),\n",
    "    dict(chars=[\"a\", \"b\", \"b\", \"b\", \"b\", \"b\", \"b\", \"b\", \"b\", \"b\", \"b\", \"b\", \"b\"]),\n",
    "    dict(chars=[\"a\", \"a\", \"a\", \"b\", \"b\", \"b\", \"c\"]),  # a3b3c\n",
    "]\n",
    "\n",
    "answers = [6, 1, 4, 5]"
   ]
  },
  {
   "cell_type": "code",
   "execution_count": 47,
   "metadata": {},
   "outputs": [
    {
     "name": "stdout",
     "output_type": "stream",
     "text": [
      "Test Case 0: Passed!\n",
      "Test Case 1: Passed!\n",
      "Test Case 2: Passed!\n",
      "Test Case 3: Passed!\n"
     ]
    }
   ],
   "source": [
    "class Solution:\n",
    "    def compress(self, chars: List[str]) -> int:\n",
    "        char_start_idx = typing_idx = 0\n",
    "        n = len(chars)\n",
    "\n",
    "        while char_start_idx < n:\n",
    "            char_check_idx = char_start_idx + 1\n",
    "            while char_check_idx < n and chars[char_check_idx] == chars[char_start_idx]:\n",
    "                char_check_idx += 1\n",
    "\n",
    "            char_cnt = char_check_idx - char_start_idx\n",
    "            chars[typing_idx] = chars[char_start_idx]\n",
    "            typing_idx += 1\n",
    "\n",
    "            if char_cnt > 1:\n",
    "                digits = []\n",
    "                while char_cnt:\n",
    "                    digits.append(char_cnt % 10)\n",
    "                    char_cnt //= 10\n",
    "\n",
    "                while digits:\n",
    "                    chars[typing_idx] = str(digits.pop())\n",
    "                    typing_idx += 1\n",
    "\n",
    "            char_start_idx = char_check_idx\n",
    "\n",
    "        return typing_idx\n",
    "\n",
    "\n",
    "run_tests(questions, answers, Solution)"
   ]
  },
  {
   "cell_type": "code",
   "execution_count": 50,
   "metadata": {},
   "outputs": [
    {
     "name": "stdout",
     "output_type": "stream",
     "text": [
      "Test Case 0: Passed!\n",
      "Test Case 1: Passed!\n",
      "Test Case 2: Passed!\n",
      "Test Case 3: Passed!\n"
     ]
    }
   ],
   "source": [
    "class Solution:\n",
    "    def compress(self, chars: List[str]) -> int:\n",
    "        char_start_idx = typing_idx = 0\n",
    "        n = len(chars)\n",
    "\n",
    "        while char_start_idx < n:\n",
    "            char_check_idx = char_start_idx + 1\n",
    "            while char_check_idx < n and chars[char_check_idx] == chars[char_start_idx]:\n",
    "                char_check_idx += 1\n",
    "\n",
    "            char_cnt = char_check_idx - char_start_idx\n",
    "            chars[typing_idx] = chars[char_start_idx]\n",
    "            typing_idx += 1\n",
    "\n",
    "            char_start_idx = char_check_idx\n",
    "\n",
    "            if char_cnt == 1:\n",
    "                continue\n",
    "\n",
    "            for c in str(char_cnt):\n",
    "                chars[typing_idx] = c\n",
    "                typing_idx += 1\n",
    "\n",
    "        return typing_idx\n",
    "\n",
    "\n",
    "run_tests(questions, answers, Solution)"
   ]
  }
 ],
 "metadata": {
  "kernelspec": {
   "display_name": ".venv",
   "language": "python",
   "name": "python3"
  },
  "language_info": {
   "codemirror_mode": {
    "name": "ipython",
    "version": 3
   },
   "file_extension": ".py",
   "mimetype": "text/x-python",
   "name": "python",
   "nbconvert_exporter": "python",
   "pygments_lexer": "ipython3",
   "version": "3.10.11"
  }
 },
 "nbformat": 4,
 "nbformat_minor": 2
}
