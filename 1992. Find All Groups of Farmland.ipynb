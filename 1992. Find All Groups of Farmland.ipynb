{
 "cells": [
  {
   "cell_type": "markdown",
   "metadata": {},
   "source": [
    "## 1992. Find All Groups of Farmland\n",
    "https://leetcode.com/problems/find-all-groups-of-farmland/?envType=daily-question&envId=2024-04-20"
   ]
  },
  {
   "cell_type": "code",
   "execution_count": 1,
   "metadata": {},
   "outputs": [],
   "source": [
    "from typing import *\n",
    "from common import run_tests\n",
    "questions = [\n",
    "    dict(land = [[1,0,0],[0,1,1],[0,1,1]]),\n",
    "    dict(land = [[1,1],[1,1]]),\n",
    "    dict(land = [[0]])\n",
    "]\n",
    "\n",
    "answers = [\n",
    "    [[0,0,0,0],[1,1,2,2]],\n",
    "    [[0,0,1,1]],\n",
    "    []\n",
    "]"
   ]
  },
  {
   "cell_type": "code",
   "execution_count": 4,
   "metadata": {},
   "outputs": [],
   "source": [
    "class Solution:\n",
    "    def findFarmland(self, land: List[List[int]]) -> List[List[int]]:\n",
    "        m, n = len(land), len(land[0])\n",
    "\n",
    "        def dfs(i, j):\n",
    "            stack = [(i, j)]\n",
    "            min_row, max_row = i, i\n",
    "            min_col, max_col = j, j\n",
    "\n",
    "            while stack:\n",
    "                cur_row, cur_col = stack.pop()\n",
    "                for dx, dy in [(-1, 0), (1, 0), (0, -1), (0, 1)]:\n",
    "                    new_row, new_col = cur_row + dx, cur_col + dy\n",
    "                    if new_row < 0 or new_row == m or new_col < 0 or new_col == n \\\n",
    "                        or land[new_row][new_col] != 1:\n",
    "                        continue\n",
    "                    land[new_row][new_col] = -1\n",
    "                    stack.append((new_row, new_col))\n",
    "\n",
    "                    min_row = min(min_row, new_row)\n",
    "                    max_row = max(max_row, new_row)\n",
    "                    min_col = min(min_col, new_col)\n",
    "                    max_col = max(max_col, new_col)\n",
    "            return [[min_row, min_col, max_row, max_col]]\n",
    "        \n",
    "        result = []\n",
    "        for i in range(m):\n",
    "            for j in range(n):\n",
    "                if land[i][j] == 1:\n",
    "                    result.extend(dfs(i, j))\n",
    "        return result\n",
    "            "
   ]
  },
  {
   "cell_type": "code",
   "execution_count": 6,
   "metadata": {},
   "outputs": [
    {
     "name": "stdout",
     "output_type": "stream",
     "text": [
      "Test Case 0: Passed!\n",
      "Test Case 1: Passed!\n",
      "Test Case 2: Passed!\n"
     ]
    }
   ],
   "source": [
    "run_tests(questions, answers, Solution)"
   ]
  }
 ],
 "metadata": {
  "kernelspec": {
   "display_name": ".venv",
   "language": "python",
   "name": "python3"
  },
  "language_info": {
   "codemirror_mode": {
    "name": "ipython",
    "version": 3
   },
   "file_extension": ".py",
   "mimetype": "text/x-python",
   "name": "python",
   "nbconvert_exporter": "python",
   "pygments_lexer": "ipython3",
   "version": "3.10.11"
  }
 },
 "nbformat": 4,
 "nbformat_minor": 2
}
