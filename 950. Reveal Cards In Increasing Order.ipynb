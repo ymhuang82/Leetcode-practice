{
 "cells": [
  {
   "cell_type": "markdown",
   "metadata": {},
   "source": [
    "## 950. Reveal Cards In Increasing Order\n",
    "https://leetcode.com/problems/reveal-cards-in-increasing-order/description/?envType=daily-question&envId=2024-04-10"
   ]
  },
  {
   "cell_type": "code",
   "execution_count": 1,
   "metadata": {},
   "outputs": [],
   "source": [
    "from typing import *\n",
    "from common import run_tests"
   ]
  },
  {
   "cell_type": "code",
   "execution_count": 2,
   "metadata": {},
   "outputs": [],
   "source": [
    "questions = [\n",
    "    {'deck': [17,13,11,2,3,5,7]},\n",
    "    {'deck': [1,1000]}\n",
    "]\n",
    "\n",
    "answers = [\n",
    "    [2,13,3,11,5,17,7],\n",
    "    [1,1000]\n",
    "]\n"
   ]
  },
  {
   "cell_type": "markdown",
   "metadata": {},
   "source": [
    "## queue"
   ]
  },
  {
   "cell_type": "code",
   "execution_count": 11,
   "metadata": {},
   "outputs": [],
   "source": [
    "from collections import deque\n",
    "class Solution:\n",
    "    def deckRevealedIncreasing(self, deck: List[int]) -> List[int]:\n",
    "        deck.sort()\n",
    "        \n",
    "        result = deque()\n",
    "        result.appendleft(deck.pop())\n",
    "\n",
    "        while deck:\n",
    "            result.appendleft(result.pop())\n",
    "            result.appendleft(deck.pop())\n",
    "        \n",
    "        return list(result)"
   ]
  },
  {
   "cell_type": "markdown",
   "metadata": {},
   "source": [
    "## queue with some optimization\n",
    "- rotate\n",
    "- Python's efficiency with `for` loops surpasses that of `while` loops. Use `for` loops where applicable."
   ]
  },
  {
   "cell_type": "code",
   "execution_count": 16,
   "metadata": {},
   "outputs": [],
   "source": [
    "from collections import deque\n",
    "class Solution:\n",
    "    def deckRevealedIncreasing(self, deck: List[int]) -> List[int]:\n",
    "        \n",
    "        deck.sort(reverse=True)\n",
    "        result = deque()\n",
    "\n",
    "        for card in deck:\n",
    "            result.rotate()\n",
    "            result.appendleft(card)\n",
    "        \n",
    "        return list(result)"
   ]
  },
  {
   "cell_type": "code",
   "execution_count": 17,
   "metadata": {},
   "outputs": [
    {
     "name": "stdout",
     "output_type": "stream",
     "text": [
      "Test Case 0: Passed!\n",
      "Test Case 1: Passed!\n"
     ]
    }
   ],
   "source": [
    "run_tests(questions, answers, Solution, 'deckRevealedIncreasing')"
   ]
  }
 ],
 "metadata": {
  "kernelspec": {
   "display_name": ".venv",
   "language": "python",
   "name": "python3"
  },
  "language_info": {
   "codemirror_mode": {
    "name": "ipython",
    "version": 3
   },
   "file_extension": ".py",
   "mimetype": "text/x-python",
   "name": "python",
   "nbconvert_exporter": "python",
   "pygments_lexer": "ipython3",
   "version": "3.10.11"
  }
 },
 "nbformat": 4,
 "nbformat_minor": 2
}
