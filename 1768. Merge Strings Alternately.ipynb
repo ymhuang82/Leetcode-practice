{
 "cells": [
  {
   "cell_type": "markdown",
   "metadata": {},
   "source": [
    "## 1768. Merge Strings Alternately\n",
    "https://leetcode.com/problems/merge-strings-alternately/?envType=study-plan-v2&envId=leetcode-75"
   ]
  },
  {
   "cell_type": "markdown",
   "metadata": {},
   "source": [
    "<details>\n",
    "    <summary> Desciption </summary>\n",
    "    You are given two strings word1 and word2. Merge the strings by adding letters in alternating order, starting with word1. If a string is longer than the other, append the additional letters onto the end of the merged string.\n",
    "\n",
    "    Return the merged string.\n",
    "\n",
    "    \n",
    "\n",
    "    Example 1:\n",
    "\n",
    "    Input: word1 = \"abc\", word2 = \"pqr\"\n",
    "    Output: \"apbqcr\"\n",
    "    Explanation: The merged string will be merged as so:\n",
    "    word1:  a   b   c\n",
    "    word2:    p   q   r\n",
    "    merged: a p b q c r\n",
    "    Example 2:\n",
    "\n",
    "    Input: word1 = \"ab\", word2 = \"pqrs\"\n",
    "    Output: \"apbqrs\"\n",
    "    Explanation: Notice that as word2 is longer, \"rs\" is appended to the end.\n",
    "    word1:  a   b \n",
    "    word2:    p   q   r   s\n",
    "    merged: a p b q   r   s\n",
    "    Example 3:\n",
    "\n",
    "    Input: word1 = \"abcd\", word2 = \"pq\"\n",
    "    Output: \"apbqcd\"\n",
    "    Explanation: Notice that as word1 is longer, \"cd\" is appended to the end.\n",
    "    word1:  a   b   c   d\n",
    "    word2:    p   q \n",
    "    merged: a p b q c   d\n",
    "    \n",
    "\n",
    "    Constraints:\n",
    "\n",
    "    1 <= word1.length, word2.length <= 100\n",
    "    word1 and word2 consist of lowercase English letters.\n",
    "</details>"
   ]
  },
  {
   "cell_type": "code",
   "execution_count": 6,
   "metadata": {},
   "outputs": [],
   "source": [
    "from typing import *\n",
    "from common import run_tests\n",
    "from itertools import zip_longest\n",
    "questions = [\n",
    "    dict(word1 = \"abc\", word2 = \"pqr\"),\n",
    "    dict(word1 = \"ab\", word2 = \"pqrs\"),\n",
    "    dict(word1 = \"abcd\", word2 = \"pq\")\n",
    "]\n",
    "\n",
    "answers = [\n",
    "    \"apbqcr\",\n",
    "    \"apbqrs\",\n",
    "    \"apbqcd\"\n",
    "]"
   ]
  },
  {
   "cell_type": "code",
   "execution_count": 31,
   "metadata": {},
   "outputs": [
    {
     "name": "stdout",
     "output_type": "stream",
     "text": [
      "Test Case 0: Passed!\n",
      "Test Case 1: Passed!\n",
      "Test Case 2: Passed!\n"
     ]
    }
   ],
   "source": [
    "class Solution:\n",
    "    def mergeAlternately(self, word1: str, word2: str) -> str:\n",
    "        return ''.join(ele for pair in zip_longest(word1, word2, fillvalue=\"\")\n",
    "                       for ele in pair)\n",
    "\n",
    "run_tests(questions, answers, Solution)"
   ]
  }
 ],
 "metadata": {
  "kernelspec": {
   "display_name": ".venv",
   "language": "python",
   "name": "python3"
  },
  "language_info": {
   "codemirror_mode": {
    "name": "ipython",
    "version": 3
   },
   "file_extension": ".py",
   "mimetype": "text/x-python",
   "name": "python",
   "nbconvert_exporter": "python",
   "pygments_lexer": "ipython3",
   "version": "3.10.11"
  }
 },
 "nbformat": 4,
 "nbformat_minor": 2
}
