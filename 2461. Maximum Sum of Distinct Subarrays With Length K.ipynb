{
 "cells": [
  {
   "cell_type": "markdown",
   "metadata": {},
   "source": [
    "## 2461. Maximum Sum of Distinct Subarrays With Length K\n",
    "https://leetcode.com/problems/maximum-sum-of-distinct-subarrays-with-length-k/description/"
   ]
  },
  {
   "cell_type": "markdown",
   "metadata": {},
   "source": [
    "<details>\n",
    "You are given an integer array nums and an integer k. Find the maximum subarray sum of all the subarrays of nums that meet the following conditions:\n",
    "\n",
    "The length of the subarray is k, and\n",
    "All the elements of the subarray are distinct.\n",
    "Return the maximum subarray sum of all the subarrays that meet the conditions. If no subarray meets the conditions, return 0.\n",
    "\n",
    "A subarray is a contiguous non-empty sequence of elements within an array.\n",
    "\n",
    " \n",
    "\n",
    "Example 1:\n",
    "\n",
    "Input: nums = [1,5,4,2,9,9,9], k = 3\n",
    "Output: 15\n",
    "Explanation: The subarrays of nums with length 3 are:\n",
    "- [1,5,4] which meets the requirements and has a sum of 10.\n",
    "- [5,4,2] which meets the requirements and has a sum of 11.\n",
    "- [4,2,9] which meets the requirements and has a sum of 15.\n",
    "- [2,9,9] which does not meet the requirements because the element 9 is repeated.\n",
    "- [9,9,9] which does not meet the requirements because the element 9 is repeated.\n",
    "We return 15 because it is the maximum subarray sum of all the subarrays that meet the conditions\n",
    "Example 2:\n",
    "\n",
    "Input: nums = [4,4,4], k = 3\n",
    "Output: 0\n",
    "Explanation: The subarrays of nums with length 3 are:\n",
    "- [4,4,4] which does not meet the requirements because the element 4 is repeated.\n",
    "We return 0 because no subarrays meet the conditions.\n",
    " \n",
    "\n",
    "Constraints:\n",
    "\n",
    "1 <= k <= nums.length <= 105\n",
    "1 <= nums[i] <= 105\n",
    "</details>"
   ]
  },
  {
   "cell_type": "code",
   "execution_count": 4,
   "metadata": {},
   "outputs": [],
   "source": [
    "from typing import *\n",
    "from common import run_tests\n",
    "\n",
    "questions = [dict(nums=[1, 5, 4, 2, 9, 9, 9], k=3), dict(nums=[4, 4, 4], k=3)]\n",
    "answers = [15, 0, 23]"
   ]
  },
  {
   "cell_type": "markdown",
   "metadata": {},
   "source": [
    "Brute force (TLE)"
   ]
  },
  {
   "cell_type": "code",
   "execution_count": 8,
   "metadata": {},
   "outputs": [
    {
     "name": "stdout",
     "output_type": "stream",
     "text": [
      "Test Case 0: Passed!\n",
      "Test Case 1: Passed!\n"
     ]
    }
   ],
   "source": [
    "class Solution:\n",
    "    def maximumSubarraySum(self, nums: List[int], k: int) -> int:\n",
    "        result = 0\n",
    "        for i in range(len(nums) - k + 1):\n",
    "            if len(set(nums[i : i + k])) == k:\n",
    "                result = max(result, sum(nums[i : i + k]))\n",
    "\n",
    "        return result\n",
    "\n",
    "\n",
    "run_tests(questions, answers, Solution)"
   ]
  },
  {
   "cell_type": "code",
   "execution_count": 21,
   "metadata": {},
   "outputs": [
    {
     "name": "stdout",
     "output_type": "stream",
     "text": [
      "Test Case 0: Passed!\n",
      "Test Case 1: Passed!\n"
     ]
    }
   ],
   "source": [
    "class Solution:\n",
    "    def maximumSubarraySum(self, nums: List[int], k: int) -> int:\n",
    "        left = right = 0\n",
    "        cur_sum = max_sum = 0\n",
    "        seen = set()\n",
    "\n",
    "        while right < len(nums):\n",
    "            while nums[right] in seen or right - left + 1 > k:\n",
    "                seen.remove(nums[left])\n",
    "                cur_sum -= nums[left]\n",
    "                left += 1\n",
    "\n",
    "            cur_sum += nums[right]\n",
    "            seen.add(nums[right])\n",
    "\n",
    "            if right - left + 1 == k:\n",
    "                max_sum = max(max_sum, cur_sum)\n",
    "\n",
    "            right += 1\n",
    "\n",
    "        return max_sum\n",
    "\n",
    "\n",
    "run_tests(questions, answers, Solution)"
   ]
  }
 ],
 "metadata": {
  "kernelspec": {
   "display_name": ".venv",
   "language": "python",
   "name": "python3"
  },
  "language_info": {
   "codemirror_mode": {
    "name": "ipython",
    "version": 3
   },
   "file_extension": ".py",
   "mimetype": "text/x-python",
   "name": "python",
   "nbconvert_exporter": "python",
   "pygments_lexer": "ipython3",
   "version": "3.10.11"
  }
 },
 "nbformat": 4,
 "nbformat_minor": 2
}
