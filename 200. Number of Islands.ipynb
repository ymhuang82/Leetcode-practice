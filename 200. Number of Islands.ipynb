{
 "cells": [
  {
   "cell_type": "markdown",
   "metadata": {},
   "source": [
    "## 200. Number of Islands\n",
    "https://leetcode.com/problems/number-of-islands/?envType=daily-question&envId=2024-04-18"
   ]
  },
  {
   "cell_type": "code",
   "execution_count": 1,
   "metadata": {},
   "outputs": [],
   "source": [
    "from typing import *\n",
    "from common import run_tests\n",
    "questions = [\n",
    "    dict(\n",
    "        grid = [\n",
    "        [\"1\",\"1\",\"1\",\"1\",\"0\"],\n",
    "        [\"1\",\"1\",\"0\",\"1\",\"0\"],\n",
    "        [\"1\",\"1\",\"0\",\"0\",\"0\"],\n",
    "        [\"0\",\"0\",\"0\",\"0\",\"0\"]\n",
    "        ]\n",
    "    ),\n",
    "    dict(\n",
    "        grid = [\n",
    "        [\"1\",\"1\",\"0\",\"0\",\"0\"],\n",
    "        [\"1\",\"1\",\"0\",\"0\",\"0\"],\n",
    "        [\"0\",\"0\",\"1\",\"0\",\"0\"],\n",
    "        [\"0\",\"0\",\"0\",\"1\",\"1\"]\n",
    "        ]\n",
    "    )\n",
    "]\n",
    "\n",
    "answers = [\n",
    "    1,\n",
    "    3\n",
    "]"
   ]
  },
  {
   "cell_type": "code",
   "execution_count": 6,
   "metadata": {},
   "outputs": [],
   "source": [
    "class Solution:\n",
    "    def numIslands(self, grid: List[List[str]]) -> int:\n",
    "        m, n = len(grid), len(grid[0])\n",
    "        lands = 0\n",
    "\n",
    "        def dfs(i, j):\n",
    "            if i < 0 or i == m or j < 0 or j == n or grid[i][j] == '0':\n",
    "                return \n",
    "            \n",
    "            grid[i][j] = '0'\n",
    "            dfs(i-1, j)\n",
    "            dfs(i+1, j)\n",
    "            dfs(i, j-1)\n",
    "            dfs(i, j+1)\n",
    "\n",
    "        for i in range(m):\n",
    "            for j in range(n):\n",
    "                if grid[i][j] == '1':\n",
    "                    lands += 1\n",
    "                    dfs(i, j)\n",
    "        return lands"
   ]
  },
  {
   "cell_type": "code",
   "execution_count": 7,
   "metadata": {},
   "outputs": [
    {
     "name": "stdout",
     "output_type": "stream",
     "text": [
      "Test Case 0: Passed!\n",
      "Test Case 1: Passed!\n"
     ]
    }
   ],
   "source": [
    "run_tests(questions, answers, Solution)"
   ]
  }
 ],
 "metadata": {
  "kernelspec": {
   "display_name": ".venv",
   "language": "python",
   "name": "python3"
  },
  "language_info": {
   "codemirror_mode": {
    "name": "ipython",
    "version": 3
   },
   "file_extension": ".py",
   "mimetype": "text/x-python",
   "name": "python",
   "nbconvert_exporter": "python",
   "pygments_lexer": "ipython3",
   "version": "3.10.11"
  }
 },
 "nbformat": 4,
 "nbformat_minor": 2
}
