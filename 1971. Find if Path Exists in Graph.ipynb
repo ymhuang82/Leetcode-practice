{
 "cells": [
  {
   "cell_type": "markdown",
   "metadata": {},
   "source": [
    "## 1971. Find if Path Exists in Graph\n",
    "https://leetcode.com/problems/find-if-path-exists-in-graph/?envType=daily-question&envId=2024-04-21"
   ]
  },
  {
   "cell_type": "code",
   "execution_count": 15,
   "metadata": {},
   "outputs": [],
   "source": [
    "from typing import *\n",
    "from common import run_tests\n",
    "questions = [\n",
    "    dict(n = 3, edges = [[0,1],[1,2],[2,0]], source = 0, destination = 2),\n",
    "    dict(n = 6, edges = [[0,1],[0,2],[3,5],[5,4],[4,3]], source = 0, destination = 5),\n",
    "    dict(n = 10, edges = [[4,3],[1,4],[4,8],[1,7],[6,4],[4,2],[7,4],[4,0],[0,9],[5,4]], source = 5, destination = 9)\n",
    "]\n",
    "\n",
    "answers = [\n",
    "    True,\n",
    "    False,\n",
    "    True\n",
    "]"
   ]
  },
  {
   "cell_type": "code",
   "execution_count": 19,
   "metadata": {},
   "outputs": [],
   "source": [
    "class Solution:\n",
    "    def validPath(self, n: int, edges: List[List[int]], source: int, destination: int) -> bool:\n",
    "        # transform edges to adjacency list\n",
    "        adjacency_list = DefaultDict(list)\n",
    "        for u, v in edges:\n",
    "            adjacency_list[u].append(v)\n",
    "            adjacency_list[v].append(u)\n",
    "            \n",
    "        def dfs(node, visited=set()):\n",
    "            if node == destination:\n",
    "                return True\n",
    "            visited.add(node)\n",
    "            for neighbor_node in adjacency_list[node]:\n",
    "                if neighbor_node in visited:\n",
    "                    continue\n",
    "                if dfs(neighbor_node, visited):\n",
    "                    return True\n",
    "            return False\n",
    "        \n",
    "        return dfs(source)"
   ]
  },
  {
   "cell_type": "code",
   "execution_count": 20,
   "metadata": {},
   "outputs": [
    {
     "name": "stdout",
     "output_type": "stream",
     "text": [
      "Test Case 0: Passed!\n",
      "Test Case 1: Passed!\n",
      "Test Case 2: Passed!\n"
     ]
    }
   ],
   "source": [
    "run_tests(questions, answers, Solution)"
   ]
  }
 ],
 "metadata": {
  "kernelspec": {
   "display_name": ".venv",
   "language": "python",
   "name": "python3"
  },
  "language_info": {
   "codemirror_mode": {
    "name": "ipython",
    "version": 3
   },
   "file_extension": ".py",
   "mimetype": "text/x-python",
   "name": "python",
   "nbconvert_exporter": "python",
   "pygments_lexer": "ipython3",
   "version": "3.10.11"
  }
 },
 "nbformat": 4,
 "nbformat_minor": 2
}
