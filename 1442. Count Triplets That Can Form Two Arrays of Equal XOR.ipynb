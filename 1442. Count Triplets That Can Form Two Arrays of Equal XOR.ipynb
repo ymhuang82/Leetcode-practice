{
 "cells": [
  {
   "cell_type": "markdown",
   "metadata": {},
   "source": [
    "## 1442. Count Triplets That Can Form Two Arrays of Equal XOR\n",
    "https://leetcode.com/problems/count-triplets-that-can-form-two-arrays-of-equal-xor/description/?envType=daily-question&envId=2024-05-30"
   ]
  },
  {
   "cell_type": "markdown",
   "metadata": {},
   "source": [
    "<details>\n",
    "Given an array of integers arr.\n",
    "\n",
    "We want to select three indices i, j and k where (0 <= i < j <= k < arr.length).\n",
    "\n",
    "Let's define a and b as follows:\n",
    "\n",
    "a = arr[i] ^ arr[i + 1] ^ ... ^ arr[j - 1]\n",
    "b = arr[j] ^ arr[j + 1] ^ ... ^ arr[k]\n",
    "Note that ^ denotes the bitwise-xor operation.\n",
    "\n",
    "Return the number of triplets (i, j and k) Where a == b.\n",
    "\n",
    " \n",
    "\n",
    "Example 1:\n",
    "\n",
    "Input: arr = [2,3,1,6,7]\n",
    "Output: 4\n",
    "Explanation: The triplets are (0,1,2), (0,2,2), (2,3,4) and (2,4,4)\n",
    "Example 2:\n",
    "\n",
    "Input: arr = [1,1,1,1,1]\n",
    "Output: 10\n",
    " \n",
    "\n",
    "Constraints:\n",
    "\n",
    "1 <= arr.length <= 300\n",
    "1 <= arr[i] <= 108\n",
    "</details>"
   ]
  },
  {
   "cell_type": "code",
   "execution_count": 16,
   "metadata": {},
   "outputs": [],
   "source": [
    "from typing import *\n",
    "from common import run_tests\n",
    "\n",
    "questions = [dict(arr=[2, 3, 1, 6, 7]), dict(arr=[1, 1, 1, 1, 1])]\n",
    "answers = [4, 10]"
   ]
  },
  {
   "cell_type": "code",
   "execution_count": 19,
   "metadata": {},
   "outputs": [
    {
     "name": "stdout",
     "output_type": "stream",
     "text": [
      "Test Case 0: Passed!\n",
      "Test Case 1: Passed!\n"
     ]
    }
   ],
   "source": [
    "class Solution:\n",
    "    def countTriplets(self, arr: List[int]) -> int:\n",
    "        result = 0\n",
    "        prefix_xor = arr[:] + [0]\n",
    "        for i in range(1, len(arr)):\n",
    "            prefix_xor[i] ^= prefix_xor[i - 1]\n",
    "        for i in range(len(arr)):\n",
    "            for k in range(i + 1, len(arr)):\n",
    "                if prefix_xor[i - 1] == prefix_xor[k]:\n",
    "                    result += k - i\n",
    "        return result\n",
    "\n",
    "\n",
    "run_tests(questions, answers, Solution)"
   ]
  },
  {
   "cell_type": "code",
   "execution_count": 14,
   "metadata": {},
   "outputs": [
    {
     "name": "stdout",
     "output_type": "stream",
     "text": [
      "Test Case 0: Passed!\n",
      "Test Case 1: Passed!\n"
     ]
    }
   ],
   "source": [
    "from itertools import accumulate\n",
    "from operator import xor\n",
    "\n",
    "\n",
    "class Solution:\n",
    "    def countTriplets(self, arr: List[int]) -> int:\n",
    "        result = 0\n",
    "        prefix_xor = list(accumulate(arr, xor, initial=0))\n",
    "        for i in range(1, len(arr) + 1):\n",
    "            for k in range(i + 1, len(arr) + 1):\n",
    "                if prefix_xor[i - 1] == prefix_xor[k]:\n",
    "                    result += k - i\n",
    "        return result\n",
    "\n",
    "\n",
    "run_tests(questions, answers, Solution)"
   ]
  }
 ],
 "metadata": {
  "kernelspec": {
   "display_name": ".venv",
   "language": "python",
   "name": "python3"
  },
  "language_info": {
   "codemirror_mode": {
    "name": "ipython",
    "version": 3
   },
   "file_extension": ".py",
   "mimetype": "text/x-python",
   "name": "python",
   "nbconvert_exporter": "python",
   "pygments_lexer": "ipython3",
   "version": "3.10.11"
  }
 },
 "nbformat": 4,
 "nbformat_minor": 2
}
