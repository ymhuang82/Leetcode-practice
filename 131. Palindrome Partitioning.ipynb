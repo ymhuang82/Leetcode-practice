{
 "cells": [
  {
   "cell_type": "markdown",
   "metadata": {},
   "source": [
    "## 131. Palindrome Partitioning\n",
    "https://leetcode.com/problems/palindrome-partitioning/description/?envType=daily-question&envId=2024-05-22"
   ]
  },
  {
   "cell_type": "markdown",
   "metadata": {},
   "source": [
    "<details>\n",
    "Given a string s, partition s such that every \n",
    "substring\n",
    " of the partition is a \n",
    "palindrome\n",
    ". Return all possible palindrome partitioning of s.\n",
    "\n",
    " \n",
    "\n",
    "Example 1:\n",
    "\n",
    "Input: s = \"aab\"\n",
    "Output: [[\"a\",\"a\",\"b\"],[\"aa\",\"b\"]]\n",
    "Example 2:\n",
    "\n",
    "Input: s = \"a\"\n",
    "Output: [[\"a\"]]\n",
    " \n",
    "\n",
    "Constraints:\n",
    "\n",
    "1 <= s.length <= 16\n",
    "s contains only lowercase English letters.\n",
    "</details>"
   ]
  },
  {
   "cell_type": "code",
   "execution_count": 7,
   "metadata": {},
   "outputs": [],
   "source": [
    "from typing import *\n",
    "from common import run_tests\n",
    "\n",
    "questions = [dict(s=\"aab\"), dict(s=\"a\"), dict(s=\"abcba\")]\n",
    "answers = [\n",
    "    [[\"a\", \"a\", \"b\"], [\"aa\", \"b\"]],\n",
    "    [[\"a\"]],\n",
    "    [[\"a\", \"b\", \"c\", \"b\", \"a\"], [\"a\", \"bcb\", \"a\"], [\"abcba\"]],\n",
    "]"
   ]
  },
  {
   "cell_type": "markdown",
   "metadata": {},
   "source": [
    "backtrack"
   ]
  },
  {
   "cell_type": "code",
   "execution_count": 10,
   "metadata": {},
   "outputs": [
    {
     "name": "stdout",
     "output_type": "stream",
     "text": [
      "Test Case 0: Passed!\n",
      "Test Case 1: Passed!\n",
      "Test Case 2: Passed!\n"
     ]
    }
   ],
   "source": [
    "class Solution:\n",
    "    def partition(self, s: str) -> List[List[str]]:\n",
    "\n",
    "        def is_palindrome(sub):\n",
    "            return sub == sub[::-1]\n",
    "\n",
    "        def backtrack(start, path):\n",
    "            if start == len(s):\n",
    "                result.append(path[:])\n",
    "                return\n",
    "            for end in range(start + 1, len(s) + 1):\n",
    "                if is_palindrome(s[start:end]):\n",
    "                    backtrack(end, path + [s[start:end]])\n",
    "\n",
    "        result = []\n",
    "        backtrack(0, [])\n",
    "        return result\n",
    "\n",
    "\n",
    "run_tests(questions, answers, Solution)"
   ]
  },
  {
   "cell_type": "markdown",
   "metadata": {},
   "source": [
    "we can use dp to optimize the calculation time in check is palindrome"
   ]
  },
  {
   "cell_type": "code",
   "execution_count": 29,
   "metadata": {},
   "outputs": [
    {
     "name": "stdout",
     "output_type": "stream",
     "text": [
      "Test Case 0: Passed!\n",
      "Test Case 1: Passed!\n",
      "Test Case 2: Passed!\n"
     ]
    }
   ],
   "source": [
    "class Solution:\n",
    "    def partition(self, s: str) -> List[List[str]]:\n",
    "        n = len(s)\n",
    "        # dp[i][j] means s[i:j+1] is palindrome, i.e. i-th to j-th substring is palindrome\n",
    "        dp = [[False] * n for _ in range(n)]\n",
    "        for i in range(n):\n",
    "            dp[i][i] = True\n",
    "        for length in range(2, n + 1):\n",
    "            for start in range(n - length + 1):\n",
    "                end = start + length - 1\n",
    "                if s[start] == s[end]:\n",
    "                    if length == 2 or dp[start + 1][end - 1]:\n",
    "                        dp[start][end] = True\n",
    "\n",
    "        def backtrack(start, path):\n",
    "            if start == n:\n",
    "                result.append(path)\n",
    "                return\n",
    "            for end in range(start, n):\n",
    "                if dp[start][end]:\n",
    "                    backtrack(end + 1, path + [s[start : end + 1]])\n",
    "\n",
    "        result = []\n",
    "        backtrack(0, [])\n",
    "        return result\n",
    "\n",
    "\n",
    "run_tests(questions, answers, Solution)"
   ]
  },
  {
   "cell_type": "code",
   "execution_count": 14,
   "metadata": {},
   "outputs": [
    {
     "data": {
      "text/plain": [
       "True"
      ]
     },
     "execution_count": 14,
     "metadata": {},
     "output_type": "execute_result"
    }
   ],
   "source": [
    "True ^ False"
   ]
  }
 ],
 "metadata": {
  "kernelspec": {
   "display_name": ".venv",
   "language": "python",
   "name": "python3"
  },
  "language_info": {
   "codemirror_mode": {
    "name": "ipython",
    "version": 3
   },
   "file_extension": ".py",
   "mimetype": "text/x-python",
   "name": "python",
   "nbconvert_exporter": "python",
   "pygments_lexer": "ipython3",
   "version": "3.10.11"
  }
 },
 "nbformat": 4,
 "nbformat_minor": 2
}
