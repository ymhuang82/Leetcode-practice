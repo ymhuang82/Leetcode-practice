{
 "cells": [
  {
   "cell_type": "markdown",
   "metadata": {},
   "source": [
    "## 2997. Minimum Number of Operations to Make Array XOR Equal to K\n",
    "https://leetcode.com/problems/minimum-number-of-operations-to-make-array-xor-equal-to-k/description/?envType=daily-question&envId=2024-04-29"
   ]
  },
  {
   "cell_type": "markdown",
   "metadata": {},
   "source": [
    "<details>\n",
    "    <summary> Desciption </summary>\n",
    "    You are given a 0-indexed integer array nums and a positive integer k.\n",
    "\n",
    "    You can apply the following operation on the array any number of times:\n",
    "\n",
    "    Choose any element of the array and flip a bit in its binary representation. Flipping a bit means changing a 0 to 1 or vice versa.\n",
    "    Return the minimum number of operations required to make the bitwise XOR of all elements of the final array equal to k.\n",
    "\n",
    "    Note that you can flip leading zero bits in the binary representation of elements. For example, for the number (101)2 you can flip the fourth bit and obtain (1101)2.\n",
    "\n",
    "    \n",
    "\n",
    "    Example 1:\n",
    "\n",
    "    Input: nums = [2,1,3,4], k = 1\n",
    "    Output: 2\n",
    "    Explanation: We can do the following operations:\n",
    "    - Choose element 2 which is 3 == (011)2, we flip the first bit and we obtain (010)2 == 2. nums becomes [2,1,2,4].\n",
    "    - Choose element 0 which is 2 == (010)2, we flip the third bit and we obtain (110)2 = 6. nums becomes [6,1,2,4].\n",
    "    The XOR of elements of the final array is (6 XOR 1 XOR 2 XOR 4) == 1 == k.\n",
    "    It can be shown that we cannot make the XOR equal to k in less than 2 operations.\n",
    "    Example 2:\n",
    "\n",
    "    Input: nums = [2,0,2,0], k = 0\n",
    "    Output: 0\n",
    "    Explanation: The XOR of elements of the array is (2 XOR 0 XOR 2 XOR 0) == 0 == k. So no operation is needed.\n",
    "    \n",
    "\n",
    "    Constraints:\n",
    "\n",
    "    1 <= nums.length <= 105\n",
    "    0 <= nums[i] <= 106\n",
    "    0 <= k <= 106\n",
    "</details>"
   ]
  },
  {
   "cell_type": "code",
   "execution_count": 1,
   "metadata": {},
   "outputs": [],
   "source": [
    "from typing import *\n",
    "from common import run_tests\n",
    "questions = [\n",
    "    dict(nums = [2,1,3,4], k = 1),\n",
    "    dict(nums = [2,0,2,0], k = 0)\n",
    "]\n",
    "\n",
    "answers = [\n",
    "    2,\n",
    "    0\n",
    "]"
   ]
  },
  {
   "cell_type": "code",
   "execution_count": 27,
   "metadata": {},
   "outputs": [],
   "source": [
    "class Solution:\n",
    "    def minOperations(self, nums: List[int], k: int) -> int:\n",
    "        nums.append(k)\n",
    "        xor_result = 0\n",
    "        for num in nums:\n",
    "            xor_result ^= num\n",
    "\n",
    "        return xor_result.bit_count()"
   ]
  },
  {
   "cell_type": "code",
   "execution_count": 28,
   "metadata": {},
   "outputs": [
    {
     "name": "stdout",
     "output_type": "stream",
     "text": [
      "Test Case 0: Passed!\n",
      "Test Case 1: Passed!\n"
     ]
    }
   ],
   "source": [
    "run_tests(questions, answers, Solution)"
   ]
  }
 ],
 "metadata": {
  "kernelspec": {
   "display_name": ".venv",
   "language": "python",
   "name": "python3"
  },
  "language_info": {
   "codemirror_mode": {
    "name": "ipython",
    "version": 3
   },
   "file_extension": ".py",
   "mimetype": "text/x-python",
   "name": "python",
   "nbconvert_exporter": "python",
   "pygments_lexer": "ipython3",
   "version": "3.10.11"
  }
 },
 "nbformat": 4,
 "nbformat_minor": 2
}
