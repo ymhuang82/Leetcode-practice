{
 "cells": [
  {
   "cell_type": "markdown",
   "metadata": {},
   "source": [
    "## 2073. Time Needed to Buy Tickets\n",
    "https://leetcode.com/problems/time-needed-to-buy-tickets/?envType=daily-question&envId=2024-04-09"
   ]
  },
  {
   "cell_type": "code",
   "execution_count": 1,
   "metadata": {},
   "outputs": [],
   "source": [
    "from typing import *\n",
    "from common import run_tests"
   ]
  },
  {
   "cell_type": "code",
   "execution_count": 17,
   "metadata": {},
   "outputs": [],
   "source": [
    "questions = [\n",
    "    {'tickets':[2,3,2], 'k':2},\n",
    "    {'tickets':[5,1,1,1], 'k':0}\n",
    "]\n",
    "\n",
    "answers = [\n",
    "    6,\n",
    "    8\n",
    "]\n"
   ]
  },
  {
   "cell_type": "markdown",
   "metadata": {},
   "source": [
    "### queue\n",
    "\n",
    "Note: it may modify the original list"
   ]
  },
  {
   "cell_type": "code",
   "execution_count": 7,
   "metadata": {},
   "outputs": [],
   "source": [
    "from collections import deque\n",
    "class Solution:\n",
    "    def timeRequiredToBuy(self, tickets: List[int], k: int) -> int:\n",
    "        queue = deque(range(len(tickets)))\n",
    "\n",
    "        time = 0\n",
    "        while queue:\n",
    "            person_id = queue.popleft()\n",
    "            tickets[person_id] -= 1\n",
    "\n",
    "            time += 1\n",
    "            \n",
    "            if person_id == k and tickets[person_id] == 0:\n",
    "                return time\n",
    "            \n",
    "            if tickets[person_id] > 0:\n",
    "                queue.append(person_id)\n",
    "        \n",
    "        # It is theoretically impossible to reach this point.\n",
    "        return 0"
   ]
  },
  {
   "cell_type": "code",
   "execution_count": 8,
   "metadata": {},
   "outputs": [
    {
     "name": "stdout",
     "output_type": "stream",
     "text": [
      "Test Case 0: Passed!\n",
      "Test Case 1: Passed!\n"
     ]
    }
   ],
   "source": [
    "run_tests(questions, answers, Solution, 'timeRequiredToBuy')"
   ]
  },
  {
   "cell_type": "markdown",
   "metadata": {},
   "source": [
    "### One pass\n",
    "\n",
    "Note: For i > k, only take `min(ticket, tickets[k] - 1)` time. For instance, if `{'tickets':[1,1,1], 'k':1}`:\n",
    "at time 2, tickets become `[0, 0, 1]`, and further iteration beyond time 2 is unnecessary."
   ]
  },
  {
   "cell_type": "code",
   "execution_count": 20,
   "metadata": {},
   "outputs": [],
   "source": [
    "class Solution:\n",
    "    def timeRequiredToBuy(self, tickets: List[int], k: int) -> int:\n",
    "        time = 0\n",
    "        for i, ticket in enumerate(tickets):\n",
    "            if i <= k:\n",
    "                time += min(ticket, tickets[k])\n",
    "            else:\n",
    "                time += min(ticket, tickets[k] - 1)\n",
    "\n",
    "        return time"
   ]
  },
  {
   "cell_type": "code",
   "execution_count": 21,
   "metadata": {},
   "outputs": [
    {
     "name": "stdout",
     "output_type": "stream",
     "text": [
      "Test Case 0: Passed!\n",
      "Test Case 1: Passed!\n"
     ]
    }
   ],
   "source": [
    "run_tests(questions, answers, Solution, 'timeRequiredToBuy')"
   ]
  },
  {
   "cell_type": "markdown",
   "metadata": {},
   "source": [
    "### One-pass (simplified code version)"
   ]
  },
  {
   "cell_type": "code",
   "execution_count": 22,
   "metadata": {},
   "outputs": [],
   "source": [
    "class Solution:\n",
    "    def timeRequiredToBuy(self, tickets: List[int], k: int) -> int:\n",
    "        return sum(min(tickets[i], tickets[k] - (i > k)) for i in range(len(tickets)))"
   ]
  },
  {
   "cell_type": "code",
   "execution_count": 23,
   "metadata": {},
   "outputs": [
    {
     "name": "stdout",
     "output_type": "stream",
     "text": [
      "Test Case 0: Passed!\n",
      "Test Case 1: Passed!\n"
     ]
    }
   ],
   "source": [
    "run_tests(questions, answers, Solution, 'timeRequiredToBuy')"
   ]
  }
 ],
 "metadata": {
  "kernelspec": {
   "display_name": ".venv",
   "language": "python",
   "name": "python3"
  },
  "language_info": {
   "codemirror_mode": {
    "name": "ipython",
    "version": 3
   },
   "file_extension": ".py",
   "mimetype": "text/x-python",
   "name": "python",
   "nbconvert_exporter": "python",
   "pygments_lexer": "ipython3",
   "version": "3.10.11"
  }
 },
 "nbformat": 4,
 "nbformat_minor": 2
}
