{
 "cells": [
  {
   "cell_type": "markdown",
   "metadata": {},
   "source": [
    "## 1325. Delete Leaves With a Given Value\n",
    "https://leetcode.com/problems/delete-leaves-with-a-given-value/description/?envType=daily-question&envId=2024-05-17"
   ]
  },
  {
   "cell_type": "markdown",
   "metadata": {},
   "source": [
    "<details>\n",
    "<summary> Desciption </summary>\n",
    "Given a binary tree root and an integer target, delete all the leaf nodes with value target.\n",
    "\n",
    "Note that once you delete a leaf node with value target, if its parent node becomes a leaf node and has the value target, it should also be deleted (you need to continue doing that until you cannot).\n",
    "\n",
    " \n",
    "\n",
    "Example 1:\n",
    "\n",
    "\n",
    "\n",
    "Input: root = [1,2,3,2,null,2,4], target = 2\n",
    "Output: [1,null,3,null,4]\n",
    "Explanation: Leaf nodes in green with value (target = 2) are removed (Picture in left). \n",
    "After removing, new nodes become leaf nodes with value (target = 2) (Picture in center).\n",
    "Example 2:\n",
    "\n",
    "\n",
    "\n",
    "Input: root = [1,3,3,3,2], target = 3\n",
    "Output: [1,3,null,null,2]\n",
    "Example 3:\n",
    "\n",
    "\n",
    "\n",
    "Input: root = [1,2,null,2,null,2], target = 2\n",
    "Output: [1]\n",
    "Explanation: Leaf nodes in green with value (target = 2) are removed at each step.\n",
    " \n",
    "\n",
    "Constraints:\n",
    "\n",
    "The number of nodes in the tree is in the range [1, 3000].\n",
    "1 <= Node.val, target <= 1000\n",
    "</details>"
   ]
  },
  {
   "cell_type": "code",
   "execution_count": 3,
   "metadata": {},
   "outputs": [],
   "source": [
    "from typing import *\n",
    "from common import run_tests, build_tree, TreeNode\n",
    "\n",
    "questions = [\n",
    "    dict(root=build_tree([1, 2, 3, 2, None, 2, 4]), target=2),\n",
    "    dict(root=build_tree([1, 3, 3, 3, 2]), target=3),\n",
    "]\n",
    "answers = [build_tree([1, None, 3, None, 4]), build_tree([1, 3, None, None, 2])]"
   ]
  },
  {
   "cell_type": "code",
   "execution_count": 4,
   "metadata": {},
   "outputs": [
    {
     "name": "stdout",
     "output_type": "stream",
     "text": [
      "Test Case 0: Passed!\n",
      "Test Case 1: Passed!\n"
     ]
    }
   ],
   "source": [
    "class Solution:\n",
    "    def removeLeafNodes(\n",
    "        self, root: Optional[TreeNode], target: int\n",
    "    ) -> Optional[TreeNode]:\n",
    "\n",
    "        def dfs(node):\n",
    "            if node is None:\n",
    "                return None\n",
    "            node.left = dfs(node.left)\n",
    "            node.right = dfs(node.right)\n",
    "            if node.val == target and node.left is None and node.right is None:\n",
    "                return None\n",
    "            return node\n",
    "\n",
    "        root = dfs(root)\n",
    "        return root\n",
    "\n",
    "\n",
    "run_tests(questions, answers, Solution)"
   ]
  },
  {
   "cell_type": "code",
   "execution_count": 5,
   "metadata": {},
   "outputs": [
    {
     "name": "stdout",
     "output_type": "stream",
     "text": [
      "Test Case 0: Passed!\n",
      "Test Case 1: Passed!\n"
     ]
    }
   ],
   "source": [
    "class Solution:\n",
    "    def removeLeafNodes(\n",
    "        self, root: Optional[TreeNode], target: int\n",
    "    ) -> Optional[TreeNode]:\n",
    "        if root is None:\n",
    "            return None\n",
    "\n",
    "        root.left = self.removeLeafNodes(root.left, target)\n",
    "        root.right = self.removeLeafNodes(root.right, target)\n",
    "\n",
    "        if root.val == target and root.left is None and root.right is None:\n",
    "            return None\n",
    "\n",
    "        return root\n",
    "\n",
    "\n",
    "run_tests(questions, answers, Solution)"
   ]
  }
 ],
 "metadata": {
  "kernelspec": {
   "display_name": ".venv",
   "language": "python",
   "name": "python3"
  },
  "language_info": {
   "codemirror_mode": {
    "name": "ipython",
    "version": 3
   },
   "file_extension": ".py",
   "mimetype": "text/x-python",
   "name": "python",
   "nbconvert_exporter": "python",
   "pygments_lexer": "ipython3",
   "version": "3.10.11"
  }
 },
 "nbformat": 4,
 "nbformat_minor": 2
}
