{
 "cells": [
  {
   "cell_type": "markdown",
   "metadata": {},
   "source": [
    "## 2597. The Number of Beautiful Subsets\n",
    "https://leetcode.com/problems/the-number-of-beautiful-subsets/description/?envType=daily-question&envId=2024-05-23"
   ]
  },
  {
   "cell_type": "markdown",
   "metadata": {},
   "source": [
    "<details>\n",
    "You are given an array nums of positive integers and a positive integer k.\n",
    "\n",
    "A subset of nums is beautiful if it does not contain two integers with an absolute difference equal to k.\n",
    "\n",
    "Return the number of non-empty beautiful subsets of the array nums.\n",
    "\n",
    "A subset of nums is an array that can be obtained by deleting some (possibly none) elements from nums. Two subsets are different if and only if the chosen indices to delete are different.\n",
    "\n",
    " \n",
    "\n",
    "Example 1:\n",
    "\n",
    "Input: nums = [2,4,6], k = 2\n",
    "Output: 4\n",
    "Explanation: The beautiful subsets of the array nums are: [2], [4], [6], [2, 6].\n",
    "It can be proved that there are only 4 beautiful subsets in the array [2,4,6].\n",
    "Example 2:\n",
    "\n",
    "Input: nums = [1], k = 1\n",
    "Output: 1\n",
    "Explanation: The beautiful subset of the array nums is [1].\n",
    "It can be proved that there is only 1 beautiful subset in the array [1].\n",
    " \n",
    "\n",
    "Constraints:\n",
    "\n",
    "1 <= nums.length <= 20\n",
    "1 <= nums[i], k <= 1000\n",
    "</details>"
   ]
  },
  {
   "cell_type": "code",
   "execution_count": 5,
   "metadata": {},
   "outputs": [],
   "source": [
    "from typing import *\n",
    "from common import run_tests\n",
    "from collections import defaultdict\n",
    "\n",
    "questions = [\n",
    "    dict(nums=[2, 4, 6], k=2),\n",
    "    dict(nums=[1], k=1),\n",
    "    dict(nums=[2, 2], k=1),\n",
    "]\n",
    "answers = [4, 1, 3]"
   ]
  },
  {
   "cell_type": "markdown",
   "metadata": {},
   "source": [
    "dfs"
   ]
  },
  {
   "cell_type": "code",
   "execution_count": 7,
   "metadata": {},
   "outputs": [
    {
     "name": "stdout",
     "output_type": "stream",
     "text": [
      "Test Case 0: Passed!\n",
      "Test Case 1: Passed!\n",
      "Test Case 2: Passed!\n"
     ]
    }
   ],
   "source": [
    "class Solution:\n",
    "    def beautifulSubsets(self, nums: List[int], k: int) -> int:\n",
    "\n",
    "        def dfs(idx, freq_map):\n",
    "            if idx == n:\n",
    "                return 1\n",
    "            n_beautiful_subsets = 0\n",
    "\n",
    "            # if taken nums[idx]\n",
    "            if freq_map[nums[idx] - k] == 0:\n",
    "                freq_map[nums[idx]] += 1\n",
    "                n_beautiful_subsets += dfs(idx + 1, freq_map)\n",
    "                freq_map[nums[idx]] -= 1\n",
    "            # if not take nums[idx]\n",
    "            n_beautiful_subsets += dfs(idx + 1, freq_map)\n",
    "            return n_beautiful_subsets\n",
    "\n",
    "        n = len(nums)\n",
    "        nums.sort()\n",
    "        freq_map = defaultdict(int)\n",
    "\n",
    "        return dfs(0, freq_map) - 1\n",
    "\n",
    "\n",
    "run_tests(questions, answers, Solution)"
   ]
  }
 ],
 "metadata": {
  "kernelspec": {
   "display_name": ".venv",
   "language": "python",
   "name": "python3"
  },
  "language_info": {
   "codemirror_mode": {
    "name": "ipython",
    "version": 3
   },
   "file_extension": ".py",
   "mimetype": "text/x-python",
   "name": "python",
   "nbconvert_exporter": "python",
   "pygments_lexer": "ipython3",
   "version": "3.10.11"
  }
 },
 "nbformat": 4,
 "nbformat_minor": 2
}
