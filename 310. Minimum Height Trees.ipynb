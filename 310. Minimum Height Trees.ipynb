{
 "cells": [
  {
   "cell_type": "markdown",
   "metadata": {},
   "source": [
    "## 310. Minimum Height Trees\n",
    "https://leetcode.com/problems/minimum-height-trees/description/?envType=daily-question&envId=2024-04-23"
   ]
  },
  {
   "cell_type": "markdown",
   "metadata": {},
   "source": [
    "<details>\n",
    "<summary>Description</summary>\n",
    "\n",
    "A tree is an undirected graph in which any two vertices are connected by exactly one path. In other words, any connected graph without simple cycles is a tree.\n",
    "\n",
    "Given a tree of n nodes labelled from 0 to n - 1, and an array of n - 1 edges where edges[i] = [ai, bi] indicates that there is an undirected edge between the two nodes ai and bi in the tree, you can choose any node of the tree as the root. When you select a node x as the root, the result tree has height h. Among all possible rooted trees, those with minimum height (i.e. min(h))  are called minimum height trees (MHTs).\n",
    "\n",
    "Return a list of all MHTs' root labels. You can return the answer in any order.\n",
    "\n",
    "The height of a rooted tree is the number of edges on the longest downward path between the root and a leaf.\n",
    "\n",
    " \n",
    "\n",
    "Example 1:\n",
    "\n",
    "\n",
    "Input: n = 4, edges = [[1,0],[1,2],[1,3]]\n",
    "Output: [1]\n",
    "Explanation: As shown, the height of the tree is 1 when the root is the node with label 1 which is the only MHT.\n",
    "Example 2:\n",
    "\n",
    "\n",
    "Input: n = 6, edges = [[3,0],[3,1],[3,2],[3,4],[5,4]]\n",
    "Output: [3,4]\n",
    "\n",
    "</details>\n"
   ]
  },
  {
   "cell_type": "code",
   "execution_count": 12,
   "metadata": {},
   "outputs": [],
   "source": [
    "from typing import *\n",
    "from common import run_tests\n",
    "from collections import *\n",
    "questions = [\n",
    "    dict(n = 4, edges = [[1,0],[1,2],[1,3]]),\n",
    "    dict(n = 6, edges = [[3,0],[3,1],[3,2],[3,4],[5,4]]),\n",
    "    dict(n = 1, edges = [])\n",
    "]\n",
    "\n",
    "answers = [\n",
    "    [1],\n",
    "    [3, 4],\n",
    "    [0]\n",
    "]"
   ]
  },
  {
   "cell_type": "code",
   "execution_count": 16,
   "metadata": {},
   "outputs": [],
   "source": [
    "class Solution:\n",
    "    def findMinHeightTrees(self, n: int, edges: List[List[int]]) -> List[int]:\n",
    "        # edge case for n == 1\n",
    "        if n == 1:\n",
    "            return [0]\n",
    "        \n",
    "        # transform graph to adjacency list\n",
    "        adjacency_list = defaultdict(list)\n",
    "        degree = [0] * n\n",
    "        for u, v in edges:\n",
    "            adjacency_list[u].append(v)\n",
    "            adjacency_list[v].append(u)\n",
    "            degree[u] += 1\n",
    "            degree[v] += 1\n",
    "        \n",
    "        # leaves are nodes with only one degree (which connects to its parent)\n",
    "        leaves = deque([i for i in range(n) if degree[i] == 1])\n",
    "        num_remaining_nodes = n\n",
    "\n",
    "        # it can be proved that there are at most 2 centre nodes\n",
    "        while num_remaining_nodes > 2:\n",
    "            num_leaves = len(leaves)\n",
    "            \n",
    "            # remove current leaves\n",
    "            num_remaining_nodes -= num_leaves\n",
    "\n",
    "            for _ in range(num_leaves):\n",
    "                leaf = leaves.popleft()\n",
    "                for neighbor in adjacency_list[leaf]:\n",
    "                    degree[neighbor] -= 1\n",
    "                    if degree[neighbor] == 1:\n",
    "                        leaves.append(neighbor)\n",
    "        return list(leaves)"
   ]
  },
  {
   "cell_type": "code",
   "execution_count": 17,
   "metadata": {},
   "outputs": [
    {
     "name": "stdout",
     "output_type": "stream",
     "text": [
      "Test Case 0: Passed!\n",
      "Test Case 1: Passed!\n",
      "Test Case 2: Passed!\n"
     ]
    }
   ],
   "source": [
    "run_tests(questions, answers, Solution)"
   ]
  }
 ],
 "metadata": {
  "kernelspec": {
   "display_name": ".venv",
   "language": "python",
   "name": "python3"
  },
  "language_info": {
   "codemirror_mode": {
    "name": "ipython",
    "version": 3
   },
   "file_extension": ".py",
   "mimetype": "text/x-python",
   "name": "python",
   "nbconvert_exporter": "python",
   "pygments_lexer": "ipython3",
   "version": "3.10.11"
  }
 },
 "nbformat": 4,
 "nbformat_minor": 2
}
