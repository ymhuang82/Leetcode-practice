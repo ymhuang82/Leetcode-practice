{
 "cells": [
  {
   "cell_type": "markdown",
   "metadata": {},
   "source": [
    "## 53. Maximum Subarray\n",
    "https://leetcode.com/problems/maximum-subarray/description/"
   ]
  },
  {
   "cell_type": "markdown",
   "metadata": {},
   "source": [
    "<details>\n",
    "53. Maximum Subarray\n",
    "Solved\n",
    "Medium\n",
    "Topics\n",
    "Companies\n",
    "Given an integer array nums, find the \n",
    "subarray\n",
    " with the largest sum, and return its sum.\n",
    "\n",
    " \n",
    "\n",
    "Example 1:\n",
    "\n",
    "Input: nums = [-2,1,-3,4,-1,2,1,-5,4]\n",
    "Output: 6\n",
    "Explanation: The subarray [4,-1,2,1] has the largest sum 6.\n",
    "Example 2:\n",
    "\n",
    "Input: nums = [1]\n",
    "Output: 1\n",
    "Explanation: The subarray [1] has the largest sum 1.\n",
    "Example 3:\n",
    "\n",
    "Input: nums = [5,4,-1,7,8]\n",
    "Output: 23\n",
    "Explanation: The subarray [5,4,-1,7,8] has the largest sum 23.\n",
    " \n",
    "\n",
    "Constraints:\n",
    "\n",
    "1 <= nums.length <= 105\n",
    "-104 <= nums[i] <= 104\n",
    " \n",
    "\n",
    "Follow up: If you have figured out the O(n) solution, try coding another solution using the divide and conquer approach, which is more subtle.\n",
    "</details>"
   ]
  },
  {
   "cell_type": "code",
   "execution_count": 1,
   "metadata": {},
   "outputs": [],
   "source": [
    "from typing import *\n",
    "from common import run_tests\n",
    "\n",
    "questions = [\n",
    "    dict(nums=[-2, 1, -3, 4, -1, 2, 1, -5, 4]),\n",
    "    dict(nums=[1]),\n",
    "    dict(nums=[5, 4, -1, 7, 8]),\n",
    "]\n",
    "answers = [6, 1, 23]"
   ]
  },
  {
   "cell_type": "markdown",
   "metadata": {},
   "source": [
    "[卡丹算法 Kadane's Algorithm](https://en.wikipedia.org/wiki/Maximum_subarray_problem#Kadane's_algorithm)"
   ]
  },
  {
   "cell_type": "code",
   "execution_count": 4,
   "metadata": {},
   "outputs": [
    {
     "name": "stdout",
     "output_type": "stream",
     "text": [
      "Test Case 0: Passed!\n",
      "Test Case 1: Passed!\n",
      "Test Case 2: Passed!\n"
     ]
    }
   ],
   "source": [
    "class Solution:\n",
    "    def maxSubArray(self, nums: List[int]) -> int:\n",
    "        max_till_here = max_so_far = nums[0]\n",
    "\n",
    "        for num in nums[1:]:\n",
    "            max_till_here = max(max_till_here + num, num)\n",
    "            max_so_far = max(max_so_far, max_till_here)\n",
    "\n",
    "        return max_so_far\n",
    "\n",
    "\n",
    "run_tests(questions, answers, Solution)"
   ]
  },
  {
   "cell_type": "markdown",
   "metadata": {},
   "source": [
    "Divide and Conquer"
   ]
  },
  {
   "cell_type": "code",
   "execution_count": 14,
   "metadata": {},
   "outputs": [
    {
     "name": "stdout",
     "output_type": "stream",
     "text": [
      "Test Case 0: Failed! Expected 6, Got 0\n",
      "Test Case 1: Failed! Expected 1, Got 0\n",
      "Test Case 2: Failed! Expected 23, Got 0\n"
     ]
    }
   ],
   "source": [
    "class Solution:\n",
    "    def maxSubArray(self, nums: List[int]) -> int:\n",
    "        prefix_sum, suffix_sum = nums[:], nums[:]\n",
    "        for i in range(1, len(nums)):\n",
    "            prefix_sum[i] += max(0, prefix_sum[i - 1])\n",
    "        for i in range(len(nums) - 2, -1, -1):\n",
    "            suffix_sum[i] += max(0, suffix_sum[i + 1])\n",
    "        \n",
    "        def divide_and_conquer(L, R)\n",
    "        return 0\n",
    "\n",
    "\n",
    "run_tests(questions, answers, Solution)"
   ]
  },
  {
   "cell_type": "code",
   "execution_count": 13,
   "metadata": {},
   "outputs": [
    {
     "name": "stdout",
     "output_type": "stream",
     "text": [
      "[2, 2, 3] [1, 2, 3]\n"
     ]
    }
   ],
   "source": [
    "nums = [1, 2, 3]\n",
    "pre, suf = nums[:], nums[:]\n",
    "pre[0] += 1\n",
    "print(pre, suf)"
   ]
  }
 ],
 "metadata": {
  "kernelspec": {
   "display_name": ".venv",
   "language": "python",
   "name": "python3"
  },
  "language_info": {
   "codemirror_mode": {
    "name": "ipython",
    "version": 3
   },
   "file_extension": ".py",
   "mimetype": "text/x-python",
   "name": "python",
   "nbconvert_exporter": "python",
   "pygments_lexer": "ipython3",
   "version": "3.10.11"
  }
 },
 "nbformat": 4,
 "nbformat_minor": 2
}
