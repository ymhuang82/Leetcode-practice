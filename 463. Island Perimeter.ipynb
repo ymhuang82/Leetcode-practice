{
 "cells": [
  {
   "cell_type": "markdown",
   "metadata": {},
   "source": [
    "## 463. Island Perimeter\n",
    "https://leetcode.com/problems/island-perimeter/description/?envType=daily-question&envId=2024-04-18"
   ]
  },
  {
   "cell_type": "code",
   "execution_count": 1,
   "metadata": {},
   "outputs": [],
   "source": [
    "from typing import *\n",
    "from common import run_tests\n",
    "questions = [\n",
    "    dict(grid = [[0,1,0,0],[1,1,1,0],[0,1,0,0],[1,1,0,0]]),\n",
    "    dict(grid = [[1]])\n",
    "]\n",
    "\n",
    "answers = [\n",
    "    16,\n",
    "    4\n",
    "]\n"
   ]
  },
  {
   "cell_type": "code",
   "execution_count": 4,
   "metadata": {},
   "outputs": [],
   "source": [
    "class Solution:\n",
    "    def islandPerimeter(self, grid: List[List[int]]) -> int:\n",
    "        return 16\n",
    "    def apple(self):\n",
    "        pass"
   ]
  },
  {
   "cell_type": "code",
   "execution_count": 5,
   "metadata": {},
   "outputs": [
    {
     "ename": "ValueError",
     "evalue": "Method name not provided, and multiple callable methods found in the Solution class.Please specify the method_name parameter.",
     "output_type": "error",
     "traceback": [
      "\u001b[1;31m---------------------------------------------------------------------------\u001b[0m",
      "\u001b[1;31mValueError\u001b[0m                                Traceback (most recent call last)",
      "Cell \u001b[1;32mIn[5], line 1\u001b[0m\n\u001b[1;32m----> 1\u001b[0m \u001b[43mrun_tests\u001b[49m\u001b[43m(\u001b[49m\u001b[43mquestions\u001b[49m\u001b[43m,\u001b[49m\u001b[43m \u001b[49m\u001b[43manswers\u001b[49m\u001b[43m,\u001b[49m\u001b[43m \u001b[49m\u001b[43mSolution\u001b[49m\u001b[43m)\u001b[49m\n",
      "File \u001b[1;32mc:\\Users\\User\\Documents\\GitHub\\Leetcode-practice\\common.py:44\u001b[0m, in \u001b[0;36mrun_tests\u001b[1;34m(questions, answers, Solution, method_name, copy)\u001b[0m\n\u001b[0;32m     42\u001b[0m     callable_method \u001b[38;5;241m=\u001b[39m [x \u001b[38;5;28;01mfor\u001b[39;00m x, y \u001b[38;5;129;01min\u001b[39;00m Solution\u001b[38;5;241m.\u001b[39m\u001b[38;5;18m__dict__\u001b[39m\u001b[38;5;241m.\u001b[39mitems() \u001b[38;5;28;01mif\u001b[39;00m \u001b[38;5;28mcallable\u001b[39m(y)]\n\u001b[0;32m     43\u001b[0m     \u001b[38;5;28;01mif\u001b[39;00m \u001b[38;5;28mlen\u001b[39m(callable_method) \u001b[38;5;241m!=\u001b[39m \u001b[38;5;241m1\u001b[39m:\n\u001b[1;32m---> 44\u001b[0m         \u001b[38;5;28;01mraise\u001b[39;00m \u001b[38;5;167;01mValueError\u001b[39;00m(\u001b[38;5;124m\"\u001b[39m\u001b[38;5;124mMethod name not provided, and multiple callable \u001b[39m\u001b[38;5;124m\"\u001b[39m\n\u001b[0;32m     45\u001b[0m                          \u001b[38;5;124m\"\u001b[39m\u001b[38;5;124mmethods found in the Solution class.\u001b[39m\u001b[38;5;124m\"\u001b[39m \n\u001b[0;32m     46\u001b[0m                          \u001b[38;5;124m\"\u001b[39m\u001b[38;5;124mPlease specify the method_name parameter.\u001b[39m\u001b[38;5;124m\"\u001b[39m)\n\u001b[0;32m     47\u001b[0m     method_name \u001b[38;5;241m=\u001b[39m callable_method[\u001b[38;5;241m0\u001b[39m]\n\u001b[0;32m     49\u001b[0m \u001b[38;5;28;01mif\u001b[39;00m copy:\n",
      "\u001b[1;31mValueError\u001b[0m: Method name not provided, and multiple callable methods found in the Solution class.Please specify the method_name parameter."
     ]
    }
   ],
   "source": [
    "run_tests(questions, answers, Solution)"
   ]
  },
  {
   "cell_type": "code",
   "execution_count": 16,
   "metadata": {},
   "outputs": [
    {
     "data": {
      "text/plain": [
       "['islandPerimeter']"
      ]
     },
     "execution_count": 16,
     "metadata": {},
     "output_type": "execute_result"
    }
   ],
   "source": [
    "# dir(Solution)\n",
    "[x for x, y in Solution.__dict__.items() if callable(y)]\n"
   ]
  }
 ],
 "metadata": {
  "kernelspec": {
   "display_name": ".venv",
   "language": "python",
   "name": "python3"
  },
  "language_info": {
   "codemirror_mode": {
    "name": "ipython",
    "version": 3
   },
   "file_extension": ".py",
   "mimetype": "text/x-python",
   "name": "python",
   "nbconvert_exporter": "python",
   "pygments_lexer": "ipython3",
   "version": "3.10.11"
  }
 },
 "nbformat": 4,
 "nbformat_minor": 2
}
