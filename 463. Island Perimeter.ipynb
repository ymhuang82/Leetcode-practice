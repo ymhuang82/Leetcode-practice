{
 "cells": [
  {
   "cell_type": "markdown",
   "metadata": {},
   "source": [
    "## 463. Island Perimeter\n",
    "https://leetcode.com/problems/island-perimeter/description/?envType=daily-question&envId=2024-04-18"
   ]
  },
  {
   "cell_type": "code",
   "execution_count": 46,
   "metadata": {},
   "outputs": [],
   "source": [
    "from typing import *\n",
    "from common import run_tests\n",
    "questions = [\n",
    "    dict(grid=[[0,1,0,0],[1,1,1,0],[0,1,0,0],[1,1,0,0]]),\n",
    "    dict(grid=[[1]]),\n",
    "    dict(grid=[[1,1],[1,1]])\n",
    "]\n",
    "\n",
    "answers = [\n",
    "    16,\n",
    "    4,\n",
    "    8\n",
    "]"
   ]
  },
  {
   "cell_type": "markdown",
   "metadata": {},
   "source": [
    "Iterative Approach\n",
    "This code implements an iterative approach to calculate the perimeter of an island represented by a grid. Here's a breakdown of how it works:\n",
    "\n",
    "1. Initialize the perimeter to 0.\n",
    "2. Get the dimensions of the grid (number of rows and columns).\n",
    "3. Iterate through each cell in the grid:\n",
    "   - If the cell represents land (contains 1):\n",
    "     - Increment the perimeter by 4 because each land cell contributes 4 to the perimeter.\n",
    "     - Check if there is a land cell to the left and top of the current cell. If so, decrement the perimeter by 2 for each adjacent land cell. This is because adjacent land cells share an edge, so they don't contribute to the perimeter.\n",
    "4. Return the calculated perimeter.\n",
    "\n",
    "The time complexity of this solution is O(m * n), where m is the number of rows and n is the number of columns in the grid."
   ]
  },
  {
   "cell_type": "code",
   "execution_count": 3,
   "metadata": {},
   "outputs": [],
   "source": [
    "class Solution:\n",
    "    def islandPerimeter(self, grid: List[List[int]]) -> int:\n",
    "        perimeter = 0\n",
    "        m, n = len(grid), len(grid[0])\n",
    "\n",
    "        for i in range(m):\n",
    "            for j in range(n):\n",
    "                if grid[i][j]:\n",
    "                    perimeter += 4\n",
    "                    if i > 0 and grid[i-1][j] == 1:\n",
    "                        perimeter -= 2\n",
    "                    if j > 0 and grid[i][j-1] == 1:\n",
    "                        perimeter -= 2\n",
    "        return perimeter"
   ]
  },
  {
   "cell_type": "code",
   "execution_count": 4,
   "metadata": {},
   "outputs": [
    {
     "name": "stdout",
     "output_type": "stream",
     "text": [
      "Test Case 0: Passed!\n",
      "Test Case 1: Passed!\n"
     ]
    }
   ],
   "source": [
    "run_tests(questions, answers, Solution)"
   ]
  },
  {
   "cell_type": "code",
   "execution_count": 52,
   "metadata": {},
   "outputs": [],
   "source": [
    "class Solution:\n",
    "    def islandPerimeter(self, grid: List[List[int]]) -> int:\n",
    "        m, n = len(grid), len(grid[0])\n",
    "\n",
    "        def dfs(i, j):\n",
    "            if i < 0 or i == m or j < 0 or j == n or grid[i][j] == 0:\n",
    "                return 1\n",
    "            \n",
    "            if grid[i][j] == -1:\n",
    "                return 0\n",
    "            \n",
    "            grid[i][j] = -1\n",
    "\n",
    "            return sum((dfs(i-1, j), dfs(i+1, j), dfs(i, j-1), dfs(i, j+1)))\n",
    "        \n",
    "        for i in range(m):\n",
    "            for j in range(n):\n",
    "                if grid[i][j]:\n",
    "                    return dfs(i, j)\n",
    "        return 0"
   ]
  },
  {
   "cell_type": "code",
   "execution_count": 53,
   "metadata": {},
   "outputs": [
    {
     "name": "stdout",
     "output_type": "stream",
     "text": [
      "Test Case 0: Passed!\n",
      "Test Case 1: Passed!\n",
      "Test Case 2: Passed!\n"
     ]
    }
   ],
   "source": [
    "run_tests(questions, answers, Solution)"
   ]
  }
 ],
 "metadata": {
  "kernelspec": {
   "display_name": ".venv",
   "language": "python",
   "name": "python3"
  },
  "language_info": {
   "codemirror_mode": {
    "name": "ipython",
    "version": 3
   },
   "file_extension": ".py",
   "mimetype": "text/x-python",
   "name": "python",
   "nbconvert_exporter": "python",
   "pygments_lexer": "ipython3",
   "version": "3.10.11"
  }
 },
 "nbformat": 4,
 "nbformat_minor": 2
}
