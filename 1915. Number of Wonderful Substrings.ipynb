{
 "cells": [
  {
   "cell_type": "markdown",
   "metadata": {},
   "source": [
    "## 1915. Number of Wonderful Substrings\n",
    "https://leetcode.com/problems/number-of-wonderful-substrings/description/?envType=daily-question&envId=2024-04-30\n",
    "\n",
    "<details>\n",
    "    <summary> Description </summary>\n",
    "    A wonderful string is a string where at most one letter appears an odd number of times.\n",
    "\n",
    "    For example, \"ccjjc\" and \"abab\" are wonderful, but \"ab\" is not.\n",
    "    Given a string word that consists of the first ten lowercase English letters ('a' through 'j'), return the number of wonderful non-empty substrings in word. If the same substring appears multiple times in word, then count each occurrence separately.\n",
    "\n",
    "    A substring is a contiguous sequence of characters in a string.\n",
    "\n",
    "    \n",
    "\n",
    "    Example 1:\n",
    "\n",
    "    Input: word = \"aba\"\n",
    "    Output: 4\n",
    "    Explanation: The four wonderful substrings are underlined below:\n",
    "    - \"aba\" -> \"a\"\n",
    "    - \"aba\" -> \"b\"\n",
    "    - \"aba\" -> \"a\"\n",
    "    - \"aba\" -> \"aba\"\n",
    "    Example 2:\n",
    "\n",
    "    Input: word = \"aabb\"\n",
    "    Output: 9\n",
    "    Explanation: The nine wonderful substrings are underlined below:\n",
    "    - \"aabb\" -> \"a\"\n",
    "    - \"aabb\" -> \"aa\"\n",
    "    - \"aabb\" -> \"aab\"\n",
    "    - \"aabb\" -> \"aabb\"\n",
    "    - \"aabb\" -> \"a\"\n",
    "    - \"aabb\" -> \"abb\"\n",
    "    - \"aabb\" -> \"b\"\n",
    "    - \"aabb\" -> \"bb\"\n",
    "    - \"aabb\" -> \"b\"\n",
    "    Example 3:\n",
    "\n",
    "    Input: word = \"he\"\n",
    "    Output: 2\n",
    "    Explanation: The two wonderful substrings are underlined below:\n",
    "    - \"he\" -> \"h\"\n",
    "    - \"he\" -> \"e\"\n",
    "    \n",
    "\n",
    "    Constraints:\n",
    "\n",
    "    1 <= word.length <= 105\n",
    "    word consists of lowercase English letters from 'a' to 'j'.\n",
    "</details>"
   ]
  },
  {
   "cell_type": "code",
   "execution_count": 15,
   "metadata": {},
   "outputs": [],
   "source": [
    "from typing import *\n",
    "from common import run_tests\n",
    "from collections import defaultdict\n",
    "questions = [\n",
    "    dict(word = \"aba\"),\n",
    "    dict(word = \"aabb\"),\n",
    "    dict(word = \"he\")\n",
    "]\n",
    "\n",
    "answers = [\n",
    "    4,\n",
    "    9,\n",
    "    2\n",
    "]"
   ]
  },
  {
   "cell_type": "code",
   "execution_count": 7,
   "metadata": {},
   "outputs": [
    {
     "name": "stdout",
     "output_type": "stream",
     "text": [
      "Test Case 0: Passed!\n",
      "Test Case 1: Passed!\n",
      "Test Case 2: Passed!\n"
     ]
    }
   ],
   "source": [
    "class Solution:\n",
    "    def wonderfulSubstrings(self, word: str) -> int:\n",
    "        freq = Counter([0]) \n",
    "        mask = 0\n",
    "        ans = 0\n",
    "\n",
    "        for c in word:\n",
    "            bit_index = ord(c) - 97 # ord('a')\n",
    "            mask ^= (1 << bit_index)\n",
    "            ans += freq[mask]\n",
    "\n",
    "            for i in range(10):\n",
    "                mask_diff_one = mask ^ (1 << i)\n",
    "                \n",
    "                if mask_diff_one in freq:\n",
    "                    ans += freq[mask_diff_one]\n",
    "\n",
    "            freq[mask] += 1\n",
    "            \n",
    "        return ans\n",
    "run_tests(questions, answers, Solution)"
   ]
  },
  {
   "cell_type": "code",
   "execution_count": 19,
   "metadata": {},
   "outputs": [
    {
     "name": "stdout",
     "output_type": "stream",
     "text": [
      "Test Case 0: Passed!\n",
      "Test Case 1: Passed!\n",
      "Test Case 2: Passed!\n"
     ]
    }
   ],
   "source": [
    "class Solution:\n",
    "    def wonderfulSubstrings(self, word: str) -> int:\n",
    "        char_to_bit = {chr(i + 97): 1 << i for i in range(10)} # ord('a') = 97\n",
    "        mask = 0\n",
    "        \n",
    "        freqs = defaultdict(int)\n",
    "        freqs[0] = 1\n",
    "\n",
    "        for c in word:\n",
    "            mask ^= char_to_bit[c]\n",
    "            freqs[mask] += 1\n",
    "\n",
    "        ans = 0\n",
    "\n",
    "        for mask, freq in freqs.items():\n",
    "            ans += freq * (freq - 1) // 2 # C(freq, 2)\n",
    "\n",
    "            for i in range(10):\n",
    "                mask_flip_one = mask ^ (1 << i)\n",
    "                \n",
    "                if mask_flip_one < mask and mask_flip_one in freqs:\n",
    "                    ans += freqs[mask_flip_one] * freq\n",
    "            \n",
    "        return ans\n",
    "run_tests(questions, answers, Solution)"
   ]
  },
  {
   "cell_type": "code",
   "execution_count": 13,
   "metadata": {},
   "outputs": [
    {
     "ename": "NameError",
     "evalue": "name 'defaultdict' is not defined",
     "output_type": "error",
     "traceback": [
      "\u001b[1;31m---------------------------------------------------------------------------\u001b[0m",
      "\u001b[1;31mNameError\u001b[0m                                 Traceback (most recent call last)",
      "Cell \u001b[1;32mIn[13], line 1\u001b[0m\n\u001b[1;32m----> 1\u001b[0m \u001b[43mdefaultdict\u001b[49m(\u001b[38;5;28mint\u001b[39m)\n",
      "\u001b[1;31mNameError\u001b[0m: name 'defaultdict' is not defined"
     ]
    }
   ],
   "source": []
  }
 ],
 "metadata": {
  "kernelspec": {
   "display_name": ".venv",
   "language": "python",
   "name": "python3"
  },
  "language_info": {
   "codemirror_mode": {
    "name": "ipython",
    "version": 3
   },
   "file_extension": ".py",
   "mimetype": "text/x-python",
   "name": "python",
   "nbconvert_exporter": "python",
   "pygments_lexer": "ipython3",
   "version": "3.10.11"
  }
 },
 "nbformat": 4,
 "nbformat_minor": 2
}
