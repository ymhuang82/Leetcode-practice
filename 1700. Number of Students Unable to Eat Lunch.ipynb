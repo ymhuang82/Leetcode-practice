{
 "cells": [
  {
   "cell_type": "markdown",
   "metadata": {},
   "source": [
    "## 1700. Number of Students Unable to Eat Lunch\n",
    "https://leetcode.com/problems/number-of-students-unable-to-eat-lunch/description/?envType=daily-question&envId=2024-04-08"
   ]
  },
  {
   "cell_type": "code",
   "execution_count": 6,
   "metadata": {},
   "outputs": [],
   "source": [
    "from typing import *\n",
    "from common import run_tests"
   ]
  },
  {
   "cell_type": "code",
   "execution_count": 7,
   "metadata": {},
   "outputs": [],
   "source": [
    "questions = [\n",
    "    {'students':[1,1,0,0], 'sandwiches':[0,1,0,1]},\n",
    "    {'students':[1,1,1,0,0,1], 'sandwiches':[1,0,0,0,1,1]}\n",
    "]\n",
    "\n",
    "answers = [\n",
    "    0,\n",
    "    3\n",
    "]\n"
   ]
  },
  {
   "cell_type": "markdown",
   "metadata": {},
   "source": [
    "Just adhere to the algorithm from its stem."
   ]
  },
  {
   "cell_type": "code",
   "execution_count": 13,
   "metadata": {},
   "outputs": [],
   "source": [
    "from collections import deque\n",
    "class Solution:\n",
    "    def countStudents(self, students: List[int], sandwiches: List[int]) -> int:\n",
    "        students_deque = deque(students)\n",
    "        sandwiches_stack = sandwiches[::-1]\n",
    "        no_served = 0\n",
    "        \n",
    "        while students_deque and len(students_deque) > no_served:\n",
    "            if students_deque[0] == sandwiches_stack[-1]:\n",
    "                students_deque.popleft()\n",
    "                sandwiches_stack.pop()\n",
    "                no_served = 0\n",
    "            else:\n",
    "                students_deque.append(students_deque.popleft())\n",
    "                no_served += 1\n",
    "                \n",
    "        return no_served"
   ]
  },
  {
   "cell_type": "code",
   "execution_count": 14,
   "metadata": {},
   "outputs": [
    {
     "name": "stdout",
     "output_type": "stream",
     "text": [
      "Test Case 0: Passed!\n",
      "Test Case 1: Passed!\n"
     ]
    }
   ],
   "source": [
    "run_tests(questions, answers, Solution, 'countStudents')"
   ]
  },
  {
   "cell_type": "markdown",
   "metadata": {},
   "source": [
    "Use counts to break if no possible"
   ]
  },
  {
   "cell_type": "code",
   "execution_count": 19,
   "metadata": {},
   "outputs": [],
   "source": [
    "class Solution:\n",
    "    def countStudents(self, students: List[int], sandwiches: List[int]) -> int:\n",
    "        zero_student_count = students.count(0)\n",
    "        one_student_count = len(students) - zero_student_count\n",
    "\n",
    "        for sandwich in sandwiches:\n",
    "            if sandwich == 0 and zero_student_count == 0:\n",
    "                return one_student_count\n",
    "            if sandwich == 1 and one_student_count == 0:\n",
    "                return zero_student_count\n",
    "\n",
    "            if sandwich == 0:\n",
    "                zero_student_count -= 1\n",
    "            else:\n",
    "                one_student_count -= 1\n",
    "        \n",
    "        return 0"
   ]
  },
  {
   "cell_type": "code",
   "execution_count": 20,
   "metadata": {},
   "outputs": [
    {
     "name": "stdout",
     "output_type": "stream",
     "text": [
      "Test Case 0: Passed!\n",
      "Test Case 1: Passed!\n"
     ]
    }
   ],
   "source": [
    "run_tests(questions, answers, Solution, 'countStudents')"
   ]
  },
  {
   "cell_type": "markdown",
   "metadata": {},
   "source": [
    "Use `Counter` to simplify the code"
   ]
  },
  {
   "cell_type": "code",
   "execution_count": 22,
   "metadata": {},
   "outputs": [],
   "source": [
    "from collections import Counter\n",
    "class Solution:\n",
    "    def countStudents(self, students: List[int], sandwiches: List[int]) -> int:\n",
    "        student_counter = Counter(students)\n",
    "\n",
    "        for sandwich in sandwiches:\n",
    "            if student_counter[sandwich] == 0:\n",
    "                return student_counter[1 - sandwich]\n",
    "            student_counter[sandwich] -= 1\n",
    "        \n",
    "        return 0"
   ]
  },
  {
   "cell_type": "code",
   "execution_count": 23,
   "metadata": {},
   "outputs": [
    {
     "name": "stdout",
     "output_type": "stream",
     "text": [
      "Test Case 0: Passed!\n",
      "Test Case 1: Passed!\n"
     ]
    }
   ],
   "source": [
    "run_tests(questions, answers, Solution, 'countStudents')"
   ]
  },
  {
   "cell_type": "markdown",
   "metadata": {},
   "source": [
    "Use `list` to reduce memory usage"
   ]
  },
  {
   "cell_type": "code",
   "execution_count": 24,
   "metadata": {},
   "outputs": [],
   "source": [
    "class Solution:\n",
    "    def countStudents(self, students: List[int], sandwiches: List[int]) -> int:\n",
    "        student_counter = [0, 0]\n",
    "        for student in students:\n",
    "            student_counter[student] += 1\n",
    "\n",
    "        for sandwich in sandwiches:\n",
    "            if student_counter[sandwich] == 0:\n",
    "                return student_counter[1 - sandwich]\n",
    "            student_counter[sandwich] -= 1\n",
    "        \n",
    "        return 0"
   ]
  },
  {
   "cell_type": "code",
   "execution_count": 25,
   "metadata": {},
   "outputs": [
    {
     "name": "stdout",
     "output_type": "stream",
     "text": [
      "Test Case 0: Passed!\n",
      "Test Case 1: Passed!\n"
     ]
    }
   ],
   "source": [
    "run_tests(questions, answers, Solution, 'countStudents')"
   ]
  }
 ],
 "metadata": {
  "kernelspec": {
   "display_name": ".venv",
   "language": "python",
   "name": "python3"
  },
  "language_info": {
   "codemirror_mode": {
    "name": "ipython",
    "version": 3
   },
   "file_extension": ".py",
   "mimetype": "text/x-python",
   "name": "python",
   "nbconvert_exporter": "python",
   "pygments_lexer": "ipython3",
   "version": "3.10.11"
  }
 },
 "nbformat": 4,
 "nbformat_minor": 2
}
