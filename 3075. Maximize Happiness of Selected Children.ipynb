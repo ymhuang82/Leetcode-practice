{
 "cells": [
  {
   "cell_type": "markdown",
   "metadata": {},
   "source": [
    "## 3075. Maximize Happiness of Selected Children\n",
    "https://leetcode.com/problems/maximize-happiness-of-selected-children/description/?envType=daily-question&envId=2024-05-09"
   ]
  },
  {
   "cell_type": "markdown",
   "metadata": {},
   "source": [
    "<details>\n",
    "<summary> Desciption </summary>\n",
    "You are given an array happiness of length n, and a positive integer k.\n",
    "\n",
    "There are n children standing in a queue, where the ith child has happiness value happiness[i]. You want to select k children from these n children in k turns.\n",
    "\n",
    "In each turn, when you select a child, the happiness value of all the children that have not been selected till now decreases by 1. Note that the happiness value cannot become negative and gets decremented only if it is positive.\n",
    "\n",
    "Return the maximum sum of the happiness values of the selected children you can achieve by selecting k children.\n",
    "\n",
    " \n",
    "\n",
    "Example 1:\n",
    "\n",
    "Input: happiness = [1,2,3], k = 2\n",
    "Output: 4\n",
    "Explanation: We can pick 2 children in the following way:\n",
    "- Pick the child with the happiness value == 3. The happiness value of the remaining children becomes [0,1].\n",
    "- Pick the child with the happiness value == 1. The happiness value of the remaining child becomes [0]. Note that the happiness value cannot become less than 0.\n",
    "The sum of the happiness values of the selected children is 3 + 1 = 4.\n",
    "Example 2:\n",
    "\n",
    "Input: happiness = [1,1,1,1], k = 2\n",
    "Output: 1\n",
    "Explanation: We can pick 2 children in the following way:\n",
    "- Pick any child with the happiness value == 1. The happiness value of the remaining children becomes [0,0,0].\n",
    "- Pick the child with the happiness value == 0. The happiness value of the remaining child becomes [0,0].\n",
    "The sum of the happiness values of the selected children is 1 + 0 = 1.\n",
    "Example 3:\n",
    "\n",
    "Input: happiness = [2,3,4,5], k = 1\n",
    "Output: 5\n",
    "Explanation: We can pick 1 child in the following way:\n",
    "- Pick the child with the happiness value == 5. The happiness value of the remaining children becomes [1,2,3].\n",
    "The sum of the happiness values of the selected children is 5.\n",
    " \n",
    "\n",
    "Constraints:\n",
    "\n",
    "1 <= n == happiness.length <= 2 * 105\n",
    "1 <= happiness[i] <= 108\n",
    "1 <= k <= n\n",
    "</details>"
   ]
  },
  {
   "cell_type": "code",
   "execution_count": 8,
   "metadata": {},
   "outputs": [],
   "source": [
    "from typing import *\n",
    "from common import run_tests\n",
    "\n",
    "questions = [\n",
    "    dict(happiness=[1, 2, 3], k=2),\n",
    "    dict(happiness=[1, 1, 1, 1], k=2),\n",
    "    dict(happiness=[2, 3, 4, 5], k=1),\n",
    "    dict(happiness=[12, 1, 42], k=3),\n",
    "]\n",
    "\n",
    "answers = [4, 1, 5, 53]"
   ]
  },
  {
   "cell_type": "code",
   "execution_count": 12,
   "metadata": {},
   "outputs": [
    {
     "name": "stdout",
     "output_type": "stream",
     "text": [
      "Test Case 0: Passed!\n",
      "Test Case 1: Passed!\n",
      "Test Case 2: Passed!\n",
      "Test Case 3: Passed!\n"
     ]
    }
   ],
   "source": [
    "class Solution:\n",
    "    def maximumHappinessSum(self, happiness: List[int], k: int) -> int:\n",
    "        happiness.sort()\n",
    "        ans = 0\n",
    "        for wait in range(k):\n",
    "            happy = happiness.pop()\n",
    "            if happy < wait:\n",
    "                return ans\n",
    "            ans += happy - wait\n",
    "\n",
    "        return ans\n",
    "\n",
    "\n",
    "run_tests(questions, answers, Solution)"
   ]
  }
 ],
 "metadata": {
  "kernelspec": {
   "display_name": ".venv",
   "language": "python",
   "name": "python3"
  },
  "language_info": {
   "codemirror_mode": {
    "name": "ipython",
    "version": 3
   },
   "file_extension": ".py",
   "mimetype": "text/x-python",
   "name": "python",
   "nbconvert_exporter": "python",
   "pygments_lexer": "ipython3",
   "version": "3.10.11"
  }
 },
 "nbformat": 4,
 "nbformat_minor": 2
}
