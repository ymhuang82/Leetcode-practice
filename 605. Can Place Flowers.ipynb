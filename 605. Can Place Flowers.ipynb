{
 "cells": [
  {
   "cell_type": "code",
   "execution_count": null,
   "metadata": {},
   "outputs": [],
   "source": []
  },
  {
   "cell_type": "markdown",
   "metadata": {},
   "source": [
    "## 605. Can Place Flowers\n",
    "https://leetcode.com/problems/can-place-flowers/description/?envType=study-plan-v2&envId=leetcode-75"
   ]
  },
  {
   "cell_type": "markdown",
   "metadata": {},
   "source": [
    "<details>\n",
    "    <summary> Desciption </summary>\n",
    "\n",
    "You have a long flowerbed in which some of the plots are planted, and some are not. However, flowers cannot be planted in adjacent plots.\n",
    "\n",
    "Given an integer array flowerbed containing 0's and 1's, where 0 means empty and 1 means not empty, and an integer n, return true if n new flowers can be planted in the flowerbed without violating the no-adjacent-flowers rule and false otherwise.\n",
    "\n",
    "\n",
    "\n",
    "Example 1:\n",
    "\n",
    "Input: flowerbed = [1,0,0,0,1], n = 1\n",
    "Output: true\n",
    "Example 2:\n",
    "\n",
    "Input: flowerbed = [1,0,0,0,1], n = 2\n",
    "Output: false\n",
    "\n",
    "\n",
    "Constraints:\n",
    "\n",
    "1 <= flowerbed.length <= 2 * 104\n",
    "flowerbed[i] is 0 or 1.\n",
    "There are no two adjacent flowers in flowerbed.\n",
    "0 <= n <= flowerbed.length\n",
    "        \n",
    "</details>"
   ]
  },
  {
   "cell_type": "code",
   "execution_count": 13,
   "metadata": {},
   "outputs": [],
   "source": [
    "from typing import *\n",
    "from common import run_tests\n",
    "questions = [\n",
    "    dict(flowerbed = [1,0,0,0,1], n = 1),\n",
    "    dict(flowerbed = [1,0,0,0,1], n = 2),\n",
    "    dict(flowerbed = [0,0,1,0,1], n = 1),\n",
    "    dict(flowerbed = [0], n = 1),\n",
    "    dict(flowerbed = [1,1,1,1,1], n = 0)\n",
    "]\n",
    "\n",
    "answers = [\n",
    "    True,\n",
    "    False,\n",
    "    True,\n",
    "    True,\n",
    "    True\n",
    "]"
   ]
  },
  {
   "cell_type": "code",
   "execution_count": 16,
   "metadata": {},
   "outputs": [
    {
     "name": "stdout",
     "output_type": "stream",
     "text": [
      "Test Case 0: Passed!\n",
      "Test Case 1: Passed!\n",
      "Test Case 2: Passed!\n",
      "Test Case 3: Passed!\n",
      "Test Case 4: Passed!\n"
     ]
    }
   ],
   "source": [
    "class Solution:\n",
    "    def canPlaceFlowers(self, flowerbed: List[int], n: int) -> bool:\n",
    "        if n <= 0:\n",
    "            return True\n",
    "        \n",
    "        max_possible = 0\n",
    "        n_flowerbed = len(flowerbed)\n",
    "\n",
    "        for i in range(n_flowerbed):\n",
    "            if flowerbed[i] == 0 and \\\n",
    "                (i == 0 or flowerbed[i-1] == 0) and \\\n",
    "                (i == (n_flowerbed - 1) or flowerbed[i+1] == 0):\n",
    "                \n",
    "                flowerbed[i] += 1\n",
    "                max_possible += 1\n",
    "\n",
    "                if max_possible >= n:\n",
    "                    return True\n",
    "\n",
    "        return False\n",
    "run_tests(questions, answers, Solution)"
   ]
  }
 ],
 "metadata": {
  "kernelspec": {
   "display_name": ".venv",
   "language": "python",
   "name": "python3"
  },
  "language_info": {
   "codemirror_mode": {
    "name": "ipython",
    "version": 3
   },
   "file_extension": ".py",
   "mimetype": "text/x-python",
   "name": "python",
   "nbconvert_exporter": "python",
   "pygments_lexer": "ipython3",
   "version": "3.10.11"
  }
 },
 "nbformat": 4,
 "nbformat_minor": 2
}
