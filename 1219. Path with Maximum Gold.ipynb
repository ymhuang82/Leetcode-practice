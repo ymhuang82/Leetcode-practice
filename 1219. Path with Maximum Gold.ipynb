{
 "cells": [
  {
   "cell_type": "markdown",
   "metadata": {},
   "source": [
    "## 1219. Path with Maximum Gold\n",
    "https://leetcode.com/problems/path-with-maximum-gold/description/?envType=daily-question&envId=2024-05-14"
   ]
  },
  {
   "cell_type": "markdown",
   "metadata": {},
   "source": [
    "<details>\n",
    "<summary> Desciption </summary>\n",
    "In a gold mine grid of size m x n, each cell in this mine has an integer representing the amount of gold in that cell, 0 if it is empty.\n",
    "\n",
    "Return the maximum amount of gold you can collect under the conditions:\n",
    "\n",
    "Every time you are located in a cell you will collect all the gold in that cell.\n",
    "From your position, you can walk one step to the left, right, up, or down.\n",
    "You can't visit the same cell more than once.\n",
    "Never visit a cell with 0 gold.\n",
    "You can start and stop collecting gold from any position in the grid that has some gold.\n",
    " \n",
    "\n",
    "Example 1:\n",
    "\n",
    "Input: grid = [[0,6,0],[5,8,7],[0,9,0]]\n",
    "Output: 24\n",
    "Explanation:\n",
    "[[0,6,0],\n",
    " [5,8,7],\n",
    " [0,9,0]]\n",
    "Path to get the maximum gold, 9 -> 8 -> 7.\n",
    "Example 2:\n",
    "\n",
    "Input: grid = [[1,0,7],[2,0,6],[3,4,5],[0,3,0],[9,0,20]]\n",
    "Output: 28\n",
    "Explanation:\n",
    "[[1,0,7],\n",
    " [2,0,6],\n",
    " [3,4,5],\n",
    " [0,3,0],\n",
    " [9,0,20]]\n",
    "Path to get the maximum gold, 1 -> 2 -> 3 -> 4 -> 5 -> 6 -> 7.\n",
    " \n",
    "\n",
    "Constraints:\n",
    "\n",
    "m == grid.length\n",
    "n == grid[i].length\n",
    "1 <= m, n <= 15\n",
    "0 <= grid[i][j] <= 100\n",
    "There are at most 25 cells containing gold.\n",
    "</details>"
   ]
  },
  {
   "cell_type": "code",
   "execution_count": 2,
   "metadata": {},
   "outputs": [],
   "source": [
    "from typing import *\n",
    "from common import run_tests\n",
    "\n",
    "questions = [\n",
    "    dict(grid=[[0, 6, 0], [5, 8, 7], [0, 9, 0]]),\n",
    "    dict(grid=[[1, 0, 7], [2, 0, 6], [3, 4, 5], [0, 3, 0], [9, 0, 20]]),\n",
    "]\n",
    "answers = [24, 28]"
   ]
  },
  {
   "cell_type": "code",
   "execution_count": 8,
   "metadata": {},
   "outputs": [
    {
     "name": "stdout",
     "output_type": "stream",
     "text": [
      "Test Case 0: Passed!\n",
      "Test Case 1: Passed!\n"
     ]
    }
   ],
   "source": [
    "class Solution:\n",
    "    def getMaximumGold(self, grid: List[List[int]]) -> int:\n",
    "        n_rows, n_cols = len(grid), len(grid[0])\n",
    "        DIRECTIONS = (0, 1, 0, -1, 0)\n",
    "        max_gold = 0\n",
    "\n",
    "        def backtrack(grid, i, j):\n",
    "            if i < 0 or i == n_rows or j < 0 or j == n_cols or grid[i][j] == 0:\n",
    "                return 0\n",
    "            original_gold = grid[i][j]\n",
    "            max_gold = 0\n",
    "            grid[i][j] = 0\n",
    "            for k in range(4):\n",
    "                max_gold = max(\n",
    "                    max_gold, backtrack(grid, i + DIRECTIONS[k], j + DIRECTIONS[k + 1])\n",
    "                )\n",
    "            grid[i][j] = original_gold\n",
    "            return original_gold + max_gold\n",
    "\n",
    "        for i in range(n_rows):\n",
    "            for j in range(n_cols):\n",
    "                if grid[i][j] != 0:\n",
    "                    max_gold = max(max_gold, backtrack(grid, i, j))\n",
    "\n",
    "        return max_gold\n",
    "\n",
    "\n",
    "run_tests(questions, answers, Solution)"
   ]
  }
 ],
 "metadata": {
  "kernelspec": {
   "display_name": ".venv",
   "language": "python",
   "name": "python3"
  },
  "language_info": {
   "codemirror_mode": {
    "name": "ipython",
    "version": 3
   },
   "file_extension": ".py",
   "mimetype": "text/x-python",
   "name": "python",
   "nbconvert_exporter": "python",
   "pygments_lexer": "ipython3",
   "version": "3.10.11"
  }
 },
 "nbformat": 4,
 "nbformat_minor": 2
}
