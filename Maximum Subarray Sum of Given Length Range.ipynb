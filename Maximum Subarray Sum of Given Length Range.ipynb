{
 "cells": [
  {
   "cell_type": "markdown",
   "metadata": {},
   "source": [
    "## Maximum Subarray Sum of Given Length Range\n",
    "https://cs.stackexchange.com/questions/151165/maximum-subarray-sum-of-given-length-range/151327#151327"
   ]
  },
  {
   "cell_type": "markdown",
   "metadata": {},
   "source": [
    "<details>\n",
    "Problem Description\n",
    "Maximum Subarray Sum of Given Length Range\n",
    "Given an array of integers nums and two integers minLength and maxLength, find the maximum sum of any subarray whose length is between minLength and maxLength (inclusive).\n",
    "\n",
    "Example\n",
    "Input:\n",
    "\n",
    "\n",
    "nums = [1, -2, 3, 4, -5, 8]\n",
    "minLength = 2\n",
    "maxLength = 4\n",
    "\n",
    "Output:\n",
    "\n",
    "10\n",
    "\n",
    "Explanation:\n",
    "\n",
    "The subarrays of length 2 are: [1, -2], [-2, 3], [3, 4], [4, -5], [-5, 8]\n",
    "The subarrays of length 3 are: [1, -2, 3], [-2, 3, 4], [3, 4, -5], [4, -5, 8]\n",
    "The subarrays of length 4 are: [1, -2, 3, 4], [-2, 3, 4, -5], [3, 4, -5, 8]\n",
    "Among these, the subarray [3, 4, -5, 8] has the maximum sum of 10.\n",
    "\n",
    "Constraints\n",
    "1 <= nums.length <= 10^5\n",
    "\n",
    "-10^4 <= nums[i] <= 10^4\n",
    "\n",
    "1 <= minLength <= maxLength <= nums.length\n",
    "\n",
    "</details>"
   ]
  },
  {
   "cell_type": "code",
   "execution_count": 1,
   "metadata": {},
   "outputs": [],
   "source": [
    "from typing import *\n",
    "from common import run_tests\n",
    "\n",
    "questions = [dict(nums=[1, -2, 3, 4, -5, 8], minLength=2, maxLength=4)]\n",
    "answers = [10]"
   ]
  },
  {
   "cell_type": "code",
   "execution_count": 19,
   "metadata": {},
   "outputs": [
    {
     "name": "stdout",
     "output_type": "stream",
     "text": [
      "Test Case 0: Passed!\n"
     ]
    }
   ],
   "source": [
    "from collections import deque\n",
    "from itertools import accumulate\n",
    "\n",
    "\n",
    "class Solution:\n",
    "    def maxSubArraySum(self, nums, minLength, maxLength):\n",
    "        n = len(nums)\n",
    "        prefix_sums = list(accumulate(nums, initial=0))\n",
    "\n",
    "        # The deque will store tuples (prefix_sum, index)\n",
    "        deq = deque()\n",
    "        answer = float(\"-inf\")\n",
    "\n",
    "        for i in range(minLength, n + maxLength - minLength + 1):\n",
    "            # Remove elements that are out of the current window\n",
    "            if deq and deq[0][1] < i - (maxLength - minLength):\n",
    "                deq.popleft()\n",
    "\n",
    "            if i <= n:\n",
    "                while deq and deq[-1][0] <= prefix_sums[i]:\n",
    "                    deq.pop()\n",
    "                deq.append((prefix_sums[i], i))\n",
    "\n",
    "            if i >= maxLength:\n",
    "                # deq[0][0] is the maximum prefix sum within the valid range\n",
    "                answer = max(answer, deq[0][0] - prefix_sums[i - maxLength])\n",
    "\n",
    "        return answer\n",
    "\n",
    "\n",
    "run_tests(questions, answers, Solution)"
   ]
  },
  {
   "cell_type": "markdown",
   "metadata": {},
   "source": [
    "not (i - maxLength < deq[0][1] < i - minLength)\n",
    "i - maxLength >= deq[0][1] or deq[0][1] >= i - minLength\n",
    "i - maxLength + minLength >= deq[0][1] + minLength or deq[0][1] + minLength>= i\n"
   ]
  },
  {
   "cell_type": "code",
   "execution_count": 22,
   "metadata": {},
   "outputs": [
    {
     "data": {
      "text/plain": [
       "[0, 4, 9, 15, 22, 30, 39]"
      ]
     },
     "execution_count": 22,
     "metadata": {},
     "output_type": "execute_result"
    }
   ],
   "source": [
    "list(accumulate(range(4, 10), initial=0))"
   ]
  }
 ],
 "metadata": {
  "kernelspec": {
   "display_name": ".venv",
   "language": "python",
   "name": "python3"
  },
  "language_info": {
   "codemirror_mode": {
    "name": "ipython",
    "version": 3
   },
   "file_extension": ".py",
   "mimetype": "text/x-python",
   "name": "python",
   "nbconvert_exporter": "python",
   "pygments_lexer": "ipython3",
   "version": "3.10.11"
  }
 },
 "nbformat": 4,
 "nbformat_minor": 2
}
